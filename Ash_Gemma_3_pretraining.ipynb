{
  "cells": [
    {
      "cell_type": "markdown",
      "metadata": {
        "id": "bLTuXLf_lXhc"
      },
      "source": [
        "# loading the datasets"
      ]
    },
    {
      "cell_type": "code",
      "execution_count": 1,
      "metadata": {
        "colab": {
          "base_uri": "https://localhost:8080/"
        },
        "collapsed": true,
        "id": "t8q26YfXlNnN",
        "outputId": "af2c819b-ae24-4301-b3b7-e194f769176c"
      },
      "outputs": [
        {
          "name": "stdout",
          "output_type": "stream",
          "text": [
            "Requirement already satisfied: datasets in /usr/local/lib/python3.12/dist-packages (4.0.0)\n",
            "Requirement already satisfied: filelock in /usr/local/lib/python3.12/dist-packages (from datasets) (3.19.1)\n",
            "Requirement already satisfied: numpy>=1.17 in /usr/local/lib/python3.12/dist-packages (from datasets) (2.0.2)\n",
            "Requirement already satisfied: pyarrow>=15.0.0 in /usr/local/lib/python3.12/dist-packages (from datasets) (18.1.0)\n",
            "Requirement already satisfied: dill<0.3.9,>=0.3.0 in /usr/local/lib/python3.12/dist-packages (from datasets) (0.3.8)\n",
            "Requirement already satisfied: pandas in /usr/local/lib/python3.12/dist-packages (from datasets) (2.2.2)\n",
            "Requirement already satisfied: requests>=2.32.2 in /usr/local/lib/python3.12/dist-packages (from datasets) (2.32.4)\n",
            "Requirement already satisfied: tqdm>=4.66.3 in /usr/local/lib/python3.12/dist-packages (from datasets) (4.67.1)\n",
            "Requirement already satisfied: xxhash in /usr/local/lib/python3.12/dist-packages (from datasets) (3.5.0)\n",
            "Requirement already satisfied: multiprocess<0.70.17 in /usr/local/lib/python3.12/dist-packages (from datasets) (0.70.16)\n",
            "Requirement already satisfied: fsspec<=2025.3.0,>=2023.1.0 in /usr/local/lib/python3.12/dist-packages (from fsspec[http]<=2025.3.0,>=2023.1.0->datasets) (2025.3.0)\n",
            "Requirement already satisfied: huggingface-hub>=0.24.0 in /usr/local/lib/python3.12/dist-packages (from datasets) (0.34.4)\n",
            "Requirement already satisfied: packaging in /usr/local/lib/python3.12/dist-packages (from datasets) (25.0)\n",
            "Requirement already satisfied: pyyaml>=5.1 in /usr/local/lib/python3.12/dist-packages (from datasets) (6.0.2)\n",
            "Requirement already satisfied: aiohttp!=4.0.0a0,!=4.0.0a1 in /usr/local/lib/python3.12/dist-packages (from fsspec[http]<=2025.3.0,>=2023.1.0->datasets) (3.12.15)\n",
            "Requirement already satisfied: typing-extensions>=3.7.4.3 in /usr/local/lib/python3.12/dist-packages (from huggingface-hub>=0.24.0->datasets) (4.15.0)\n",
            "Requirement already satisfied: hf-xet<2.0.0,>=1.1.3 in /usr/local/lib/python3.12/dist-packages (from huggingface-hub>=0.24.0->datasets) (1.1.9)\n",
            "Requirement already satisfied: charset_normalizer<4,>=2 in /usr/local/lib/python3.12/dist-packages (from requests>=2.32.2->datasets) (3.4.3)\n",
            "Requirement already satisfied: idna<4,>=2.5 in /usr/local/lib/python3.12/dist-packages (from requests>=2.32.2->datasets) (3.10)\n",
            "Requirement already satisfied: urllib3<3,>=1.21.1 in /usr/local/lib/python3.12/dist-packages (from requests>=2.32.2->datasets) (2.5.0)\n",
            "Requirement already satisfied: certifi>=2017.4.17 in /usr/local/lib/python3.12/dist-packages (from requests>=2.32.2->datasets) (2025.8.3)\n",
            "Requirement already satisfied: python-dateutil>=2.8.2 in /usr/local/lib/python3.12/dist-packages (from pandas->datasets) (2.9.0.post0)\n",
            "Requirement already satisfied: pytz>=2020.1 in /usr/local/lib/python3.12/dist-packages (from pandas->datasets) (2025.2)\n",
            "Requirement already satisfied: tzdata>=2022.7 in /usr/local/lib/python3.12/dist-packages (from pandas->datasets) (2025.2)\n",
            "Requirement already satisfied: aiohappyeyeballs>=2.5.0 in /usr/local/lib/python3.12/dist-packages (from aiohttp!=4.0.0a0,!=4.0.0a1->fsspec[http]<=2025.3.0,>=2023.1.0->datasets) (2.6.1)\n",
            "Requirement already satisfied: aiosignal>=1.4.0 in /usr/local/lib/python3.12/dist-packages (from aiohttp!=4.0.0a0,!=4.0.0a1->fsspec[http]<=2025.3.0,>=2023.1.0->datasets) (1.4.0)\n",
            "Requirement already satisfied: attrs>=17.3.0 in /usr/local/lib/python3.12/dist-packages (from aiohttp!=4.0.0a0,!=4.0.0a1->fsspec[http]<=2025.3.0,>=2023.1.0->datasets) (25.3.0)\n",
            "Requirement already satisfied: frozenlist>=1.1.1 in /usr/local/lib/python3.12/dist-packages (from aiohttp!=4.0.0a0,!=4.0.0a1->fsspec[http]<=2025.3.0,>=2023.1.0->datasets) (1.7.0)\n",
            "Requirement already satisfied: multidict<7.0,>=4.5 in /usr/local/lib/python3.12/dist-packages (from aiohttp!=4.0.0a0,!=4.0.0a1->fsspec[http]<=2025.3.0,>=2023.1.0->datasets) (6.6.4)\n",
            "Requirement already satisfied: propcache>=0.2.0 in /usr/local/lib/python3.12/dist-packages (from aiohttp!=4.0.0a0,!=4.0.0a1->fsspec[http]<=2025.3.0,>=2023.1.0->datasets) (0.3.2)\n",
            "Requirement already satisfied: yarl<2.0,>=1.17.0 in /usr/local/lib/python3.12/dist-packages (from aiohttp!=4.0.0a0,!=4.0.0a1->fsspec[http]<=2025.3.0,>=2023.1.0->datasets) (1.20.1)\n",
            "Requirement already satisfied: six>=1.5 in /usr/local/lib/python3.12/dist-packages (from python-dateutil>=2.8.2->pandas->datasets) (1.17.0)\n"
          ]
        }
      ],
      "source": [
        "!pip install datasets"
      ]
    },
    {
      "cell_type": "code",
      "execution_count": 2,
      "metadata": {
        "colab": {
          "base_uri": "https://localhost:8080/"
        },
        "collapsed": true,
        "id": "b8lK3EZUlQKr",
        "outputId": "0c75d37f-c14c-4a11-c7f5-7b104792886c"
      },
      "outputs": [
        {
          "name": "stdout",
          "output_type": "stream",
          "text": [
            "Requirement already satisfied: datasets in /usr/local/lib/python3.12/dist-packages (4.0.0)\n",
            "Requirement already satisfied: filelock in /usr/local/lib/python3.12/dist-packages (from datasets) (3.19.1)\n",
            "Requirement already satisfied: numpy>=1.17 in /usr/local/lib/python3.12/dist-packages (from datasets) (2.0.2)\n",
            "Requirement already satisfied: pyarrow>=15.0.0 in /usr/local/lib/python3.12/dist-packages (from datasets) (18.1.0)\n",
            "Requirement already satisfied: dill<0.3.9,>=0.3.0 in /usr/local/lib/python3.12/dist-packages (from datasets) (0.3.8)\n",
            "Requirement already satisfied: pandas in /usr/local/lib/python3.12/dist-packages (from datasets) (2.2.2)\n",
            "Requirement already satisfied: requests>=2.32.2 in /usr/local/lib/python3.12/dist-packages (from datasets) (2.32.4)\n",
            "Requirement already satisfied: tqdm>=4.66.3 in /usr/local/lib/python3.12/dist-packages (from datasets) (4.67.1)\n",
            "Requirement already satisfied: xxhash in /usr/local/lib/python3.12/dist-packages (from datasets) (3.5.0)\n",
            "Requirement already satisfied: multiprocess<0.70.17 in /usr/local/lib/python3.12/dist-packages (from datasets) (0.70.16)\n",
            "Requirement already satisfied: fsspec<=2025.3.0,>=2023.1.0 in /usr/local/lib/python3.12/dist-packages (from fsspec[http]<=2025.3.0,>=2023.1.0->datasets) (2025.3.0)\n",
            "Requirement already satisfied: huggingface-hub>=0.24.0 in /usr/local/lib/python3.12/dist-packages (from datasets) (0.34.4)\n",
            "Requirement already satisfied: packaging in /usr/local/lib/python3.12/dist-packages (from datasets) (25.0)\n",
            "Requirement already satisfied: pyyaml>=5.1 in /usr/local/lib/python3.12/dist-packages (from datasets) (6.0.2)\n",
            "Requirement already satisfied: aiohttp!=4.0.0a0,!=4.0.0a1 in /usr/local/lib/python3.12/dist-packages (from fsspec[http]<=2025.3.0,>=2023.1.0->datasets) (3.12.15)\n",
            "Requirement already satisfied: typing-extensions>=3.7.4.3 in /usr/local/lib/python3.12/dist-packages (from huggingface-hub>=0.24.0->datasets) (4.15.0)\n",
            "Requirement already satisfied: hf-xet<2.0.0,>=1.1.3 in /usr/local/lib/python3.12/dist-packages (from huggingface-hub>=0.24.0->datasets) (1.1.9)\n",
            "Requirement already satisfied: charset_normalizer<4,>=2 in /usr/local/lib/python3.12/dist-packages (from requests>=2.32.2->datasets) (3.4.3)\n",
            "Requirement already satisfied: idna<4,>=2.5 in /usr/local/lib/python3.12/dist-packages (from requests>=2.32.2->datasets) (3.10)\n",
            "Requirement already satisfied: urllib3<3,>=1.21.1 in /usr/local/lib/python3.12/dist-packages (from requests>=2.32.2->datasets) (2.5.0)\n",
            "Requirement already satisfied: certifi>=2017.4.17 in /usr/local/lib/python3.12/dist-packages (from requests>=2.32.2->datasets) (2025.8.3)\n",
            "Requirement already satisfied: python-dateutil>=2.8.2 in /usr/local/lib/python3.12/dist-packages (from pandas->datasets) (2.9.0.post0)\n",
            "Requirement already satisfied: pytz>=2020.1 in /usr/local/lib/python3.12/dist-packages (from pandas->datasets) (2025.2)\n",
            "Requirement already satisfied: tzdata>=2022.7 in /usr/local/lib/python3.12/dist-packages (from pandas->datasets) (2025.2)\n",
            "Requirement already satisfied: aiohappyeyeballs>=2.5.0 in /usr/local/lib/python3.12/dist-packages (from aiohttp!=4.0.0a0,!=4.0.0a1->fsspec[http]<=2025.3.0,>=2023.1.0->datasets) (2.6.1)\n",
            "Requirement already satisfied: aiosignal>=1.4.0 in /usr/local/lib/python3.12/dist-packages (from aiohttp!=4.0.0a0,!=4.0.0a1->fsspec[http]<=2025.3.0,>=2023.1.0->datasets) (1.4.0)\n",
            "Requirement already satisfied: attrs>=17.3.0 in /usr/local/lib/python3.12/dist-packages (from aiohttp!=4.0.0a0,!=4.0.0a1->fsspec[http]<=2025.3.0,>=2023.1.0->datasets) (25.3.0)\n",
            "Requirement already satisfied: frozenlist>=1.1.1 in /usr/local/lib/python3.12/dist-packages (from aiohttp!=4.0.0a0,!=4.0.0a1->fsspec[http]<=2025.3.0,>=2023.1.0->datasets) (1.7.0)\n",
            "Requirement already satisfied: multidict<7.0,>=4.5 in /usr/local/lib/python3.12/dist-packages (from aiohttp!=4.0.0a0,!=4.0.0a1->fsspec[http]<=2025.3.0,>=2023.1.0->datasets) (6.6.4)\n",
            "Requirement already satisfied: propcache>=0.2.0 in /usr/local/lib/python3.12/dist-packages (from aiohttp!=4.0.0a0,!=4.0.0a1->fsspec[http]<=2025.3.0,>=2023.1.0->datasets) (0.3.2)\n",
            "Requirement already satisfied: yarl<2.0,>=1.17.0 in /usr/local/lib/python3.12/dist-packages (from aiohttp!=4.0.0a0,!=4.0.0a1->fsspec[http]<=2025.3.0,>=2023.1.0->datasets) (1.20.1)\n",
            "Requirement already satisfied: six>=1.5 in /usr/local/lib/python3.12/dist-packages (from python-dateutil>=2.8.2->pandas->datasets) (1.17.0)\n"
          ]
        }
      ],
      "source": [
        "!pip install -U datasets\n"
      ]
    },
    {
      "cell_type": "code",
      "execution_count": 1,
      "metadata": {
        "colab": {
          "base_uri": "https://localhost:8080/"
        },
        "id": "q7o5NaLxlQH0",
        "outputId": "011913ae-b274-4536-b7dd-cc201e61b178"
      },
      "outputs": [
        {
          "name": "stderr",
          "output_type": "stream",
          "text": [
            "/usr/local/lib/python3.12/dist-packages/huggingface_hub/utils/_auth.py:94: UserWarning: \n",
            "The secret `HF_TOKEN` does not exist in your Colab secrets.\n",
            "To authenticate with the Hugging Face Hub, create a token in your settings tab (https://huggingface.co/settings/tokens), set it as secret in your Google Colab and restart your session.\n",
            "You will be able to reuse this secret in all of your notebooks.\n",
            "Please note that authentication is recommended but still optional to access public models or datasets.\n",
            "  warnings.warn(\n"
          ]
        }
      ],
      "source": [
        "from datasets import load_dataset\n",
        "\n",
        "ds = load_dataset(\"ruslanmv/ai-medical-chatbot\")"
      ]
    },
    {
      "cell_type": "markdown",
      "metadata": {
        "id": "NlLAP5dUmCFD"
      },
      "source": [
        "# 1. Tokenization"
      ]
    },
    {
      "cell_type": "markdown",
      "metadata": {
        "id": "srSVOxjFmFbb"
      },
      "source": [
        "**Creating tokens and assigning token IDs to each**"
      ]
    },
    {
      "cell_type": "markdown",
      "metadata": {
        "id": "jahs6DurnYB1"
      },
      "source": [
        "subword tokenization - using BPE\n",
        "low vocab size ---> No OOV problem (both chacracters and subwords present; so any new word can be be tokenized as well)"
      ]
    },
    {
      "cell_type": "markdown",
      "metadata": {
        "id": "DHp8InYNn0gQ"
      },
      "source": [
        "Original Gemma3 model size is 262k. But, we will use 50257 for simplicity. We will use tiktoken library for tokenization. We will store the token IDs as file in disk after seperating them into train and validation files."
      ]
    },
    {
      "cell_type": "code",
      "execution_count": null,
      "metadata": {
        "id": "-c7EPxwHlQEr"
      },
      "outputs": [],
      "source": [
        "import tiktoken\n",
        "import os\n",
        "import numpy as np\n",
        "import tqdm.auto as tqdm\n",
        "import torch\n",
        "\n",
        "enc = tiktoken.get_encoding(\"gpt2\")\n"
      ]
    },
    {
      "cell_type": "markdown",
      "metadata": {
        "id": "il6MIuCGFN2q"
      },
      "source": [
        "def process(example):\n",
        "    # Combine condition_label + abstract into a single string\n",
        "    text = f\"Condition: {example['condition_label']}\\nAbstract: {example['medical_abstract']}\"\n",
        "    ids_all = enc.encode(text)  # use encode, not encode_ordinary\n",
        "    return {\"ids\": ids_all, \"len\": len(ids_all)}"
      ]
    },
    {
      "cell_type": "markdown",
      "metadata": {
        "id": "PF4PPKmcAyO_"
      },
      "source": [
        "**for whole data**"
      ]
    },
    {
      "cell_type": "code",
      "execution_count": 2,
      "metadata": {
        "id": "YIQjRXGJRJbs"
      },
      "outputs": [],
      "source": [
        "\n",
        "\n",
        "# 90/10 split\n",
        "splits = ds[\"train\"].train_test_split(test_size=0.1, seed=42)\n",
        "train_ds = splits[\"train\"]\n",
        "val_ds = splits[\"test\"]\n"
      ]
    },
    {
      "cell_type": "code",
      "execution_count": 9,
      "metadata": {
        "colab": {
          "base_uri": "https://localhost:8080/"
        },
        "id": "eo187SkXSPTA",
        "outputId": "10bfea62-b0e5-4af4-b6e4-eb19ea8961d0"
      },
      "outputs": [
        {
          "data": {
            "text/plain": [
              "Dataset({\n",
              "    features: ['Description', 'Patient', 'Doctor'],\n",
              "    num_rows: 231224\n",
              "})"
            ]
          },
          "execution_count": 9,
          "metadata": {},
          "output_type": "execute_result"
        }
      ],
      "source": [
        "train_ds"
      ]
    },
    {
      "cell_type": "code",
      "execution_count": 16,
      "metadata": {
        "id": "TRaa53x1RJZM"
      },
      "outputs": [],
      "source": [
        "def process(example):\n",
        "    # build one text string first\n",
        "\n",
        "    text = (\n",
        "        f\"Description: {example['Description']}\\n\"\n",
        "        f\"Patient query: {example['Patient']}\\n\"\n",
        "        f\"Doctor's response: {example['Doctor']}\\n\"\n",
        "        \"<|endoftext|>\\n\"   # special separator\n",
        "    )\n",
        "    #ids_all = enc.encode(text)\n",
        "    ids_all = enc.encode(text, allowed_special={\"<|endoftext|>\"})\n",
        "    return {\"ids\": ids_all, \"len\": len(ids_all)}\n",
        "\n",
        "\n"
      ]
    },
    {
      "cell_type": "code",
      "execution_count": 17,
      "metadata": {
        "colab": {
          "base_uri": "https://localhost:8080/",
          "height": 81,
          "referenced_widgets": [
            "0b549a28189243fc9c481e541a097306",
            "7a9f6326340f4eb3bd14df7fcb0c7c97",
            "6e098e81bc714f4087270dae294bb873",
            "6f79ecf9b1664b15a1299e692ae27456",
            "3973231bf7ac479d9a0f92e8c7fa3c1f",
            "eda0946a7a334118a529b88210c8c4d0",
            "fd107cf7607245a2b05d0a621f57d880",
            "25342b6da472477faac2347f19de264a",
            "decfa4dc113e4ce5ba15509bf79b883b",
            "fbc90501c746468b8a4bae65408729fe",
            "f3933fa29e3144f5a1db06eaae73d15d",
            "e81c6fb13bf0405091224059a78efd58",
            "ba75f95606254d1cb73405d14e9f0151",
            "1028fe98bd724a2e81b0bf84859e0a47",
            "abfda9307f114740b82576e1225eac41",
            "f01aa8ebae294c9994479561c2d5d89b",
            "7a7b74aeec894c7ab35304505cf3c9a6",
            "d2b1b5e7f3164154956715519628ac76",
            "0a4ceb873c64461fb7a2340028df3114",
            "beb6c2932ff848e285730c752e6011fe",
            "dc4b739f48f24960a4eeaae0b7d43338",
            "e18b87ed31fd4ba39e0fbc88ca323122"
          ]
        },
        "id": "2ndN2MSwRxNd",
        "outputId": "534d134e-3537-4432-be13-230f1760862b"
      },
      "outputs": [
        {
          "data": {
            "application/vnd.jupyter.widget-view+json": {
              "model_id": "0b549a28189243fc9c481e541a097306",
              "version_major": 2,
              "version_minor": 0
            },
            "text/plain": [
              "Tokenizing train set (num_proc=8):   0%|          | 0/231224 [00:00<?, ? examples/s]"
            ]
          },
          "metadata": {},
          "output_type": "display_data"
        },
        {
          "data": {
            "application/vnd.jupyter.widget-view+json": {
              "model_id": "e81c6fb13bf0405091224059a78efd58",
              "version_major": 2,
              "version_minor": 0
            },
            "text/plain": [
              "Tokenizing val set (num_proc=8):   0%|          | 0/25692 [00:00<?, ? examples/s]"
            ]
          },
          "metadata": {},
          "output_type": "display_data"
        }
      ],
      "source": [
        "#now taking the process function and applying to every row of dataset\n",
        "\n",
        "train_tok = train_ds.map(\n",
        "    process,\n",
        "    remove_columns=[\"Description\", \"Patient\", \"Doctor\"],\n",
        "    desc=\"Tokenizing train set\",\n",
        "    num_proc=8,\n",
        ")\n",
        "\n",
        "val_tok = val_ds.map(\n",
        "    process,\n",
        "    remove_columns=[\"Description\", \"Patient\", \"Doctor\"],\n",
        "    desc=\"Tokenizing val set\",\n",
        "    num_proc=8,\n",
        ")"
      ]
    },
    {
      "cell_type": "code",
      "execution_count": 18,
      "metadata": {
        "colab": {
          "base_uri": "https://localhost:8080/"
        },
        "id": "IvSqwom9RxKv",
        "outputId": "4ee5985c-23c2-465c-c79d-b2b1ab512304"
      },
      "outputs": [
        {
          "name": "stderr",
          "output_type": "stream",
          "text": [
            "Writing train.bin: 100%|██████████| 1024/1024 [01:40<00:00, 10.16it/s]\n"
          ]
        },
        {
          "name": "stdout",
          "output_type": "stream",
          "text": [
            "✅ Wrote train.bin with 58017800 tokens\n"
          ]
        },
        {
          "name": "stderr",
          "output_type": "stream",
          "text": [
            "Writing val.bin: 100%|██████████| 1024/1024 [00:13<00:00, 77.94it/s]"
          ]
        },
        {
          "name": "stdout",
          "output_type": "stream",
          "text": [
            "✅ Wrote val.bin with 6461351 tokens\n"
          ]
        },
        {
          "name": "stderr",
          "output_type": "stream",
          "text": [
            "\n"
          ]
        }
      ],
      "source": [
        "import numpy as np\n",
        "from tqdm import tqdm\n",
        "\n",
        "def save_bin(dset, filename):\n",
        "    arr_len = np.sum(dset[\"len\"], dtype=np.uint64)\n",
        "    arr = np.memmap(filename, dtype=np.uint16, mode=\"w+\", shape=(arr_len,))\n",
        "    total_batches = 1024\n",
        "    idx = 0\n",
        "    for batch_idx in tqdm(range(total_batches), desc=f\"Writing {filename}\"):\n",
        "        batch = dset.shard(num_shards=total_batches, index=batch_idx, contiguous=True).with_format(\"numpy\")\n",
        "        arr_batch = np.concatenate(batch[\"ids\"])\n",
        "        arr[idx:idx+len(arr_batch)] = arr_batch\n",
        "        idx += len(arr_batch)\n",
        "    arr.flush()\n",
        "    print(f\"✅ Wrote {filename} with {arr_len} tokens\")\n",
        "\n",
        "save_bin(train_tok, \"train.bin\")\n",
        "save_bin(val_tok, \"val.bin\")\n"
      ]
    },
    {
      "cell_type": "code",
      "execution_count": null,
      "metadata": {
        "colab": {
          "base_uri": "https://localhost:8080/"
        },
        "id": "CKuS8yVdDuIZ",
        "outputId": "d5a2519c-962a-4138-b11f-5020feec85f2"
      },
      "outputs": [
        {
          "name": "stdout",
          "output_type": "stream",
          "text": [
            "First 50 token IDs: [11828    25 10358 ...    13 13408   314]\n",
            "\n",
            "Decoded text sample:\n",
            " Description: Should I be concerned about having pain in the left side of my back?\n",
            "Patient query: I have been having left side pain on the middle of my side but it can be in my back, chest and even my lower right side at times. No other symptoms at all. I had hernia repair with mesh 1 year ago. THe pain is tolerable just annoying. Should I be concerned?\n",
            "Doctor's response: Hello, The pain on one side of the back can be postural in nature. Standing for long periods and lack of adequate exercise can cause such a pain. Oral muscle relaxants and regular exercises can help. Hope I have answered your query. Let me know if I can assist you further. Take care Regards, Dr Praveen Tayal, Orthopaedic Surgeon\n",
            "<|endoftext|>\n",
            "Description: Q. My cuticles have developed blood specks. Is it scleroderma?\n",
            "Patient query: Hi doctor,I am contacting you because I have Raynaud's, and the past few months my cuticles have developed blood specks. I know these symptoms point to scleroderma. It has me very worried. I need to visit a doctor for tests but I have to wait a few days and I would really like to get some clarification on a few things. I get the impression that once you show these signs of specks in cuticles it definitely indicates scleroderma or some other autoimmune issue. Is it possible that I am wrong? I stopped getting manicures and the cuticles started getting very overgrown. Is it possible the specks in my cuticles are just because of this? Or maybe because my hands are dry and I have many hangnails? Another question I have is if I do ultimately have limited scleroderma CREST, is it common for these CREST patients to develop full-blown diffuse scleroderma? I am very stressed out about this. I am 26 years old female. Currently, I am taking Adderall and Citalopram.\n",
            "Doctor's response: Hello. I went through your post. The diagnosis of scleroderma is based on clinical and some laboratory parameters neither raynauds nor the cuticle blood spots are specific for scleroderma. It is skin thickness that has maximum value and blood tests like anticentromere antibody and anti-Scl 70 which has significance the blood vessels involvement is microscopic and is seen only with NFC (near-field communication) not by the naked eye and only ulcers if present can be seen by naked eye. So do not panic get tested and examined before you give your self a diagnosis.  For more information consult a rheumatologist online -->\n",
            "<|endoftext|>\n",
            "Description: Does my daughter need medication for seizures?\n",
            "Patient query: my daughter 11 yrs had mild seizure on 31st night. After that she is perfectally alright ang attending school. She had fever from 25-26 and down fever from 27-31. What could be the reasons of seizure. After EEG report doctor has started oxetol for one month. Does she really need medication for this? How long she has to take? What are the side effects? Any chances of reocurrence of seizure.\n",
            "Doctor's response: Hello Thanks for using Healthcaremagic.com From the information it looks to me like it is first episode of seizures in her. If some has seizures post infection one has to consider the possibility of Acute disseminated encephalomyelitis. MRI of the brain with contrast can diagnose this problem. If MRI is negative other possibilities in her are benign childhood epilepsy probably precipitated by fever. EEG done in sleep can in most instances confirms the diagnosis. If EEG and MRI is normal I personally feel medications are not required at this point of time. Keep her under observation and consider the option of medicines if seizure recurs. Sincerely, Dr Shiva Kumar R Consultant Neurologist & Epileptologist Bangalore\n",
            "<|endoftext|>\n",
            "Description: Suggest remedy for mild pain on right side under ribs\n",
            "Patient query: Hi, I tripped in the garden3 days ago and at the time only had pain in my big toe but a day later and since I have had a mild pain on my right under my ribs. Thinking on as I tripped the wash basket I was carrying may well have pushed into my side. I have no pain when breathing only when bending or if I touch when there is discomfort.\n",
            "Doctor's response: Here good if you Dont have pain while breathing in. This shows there is no internal damage. But as you have mention that there is pain while bending this shows there is a soft tissue micro level damage. Here nothing to worry even if there is a crack in rib because the rib is supported with other   bones like sternum in front and spine in back. As well it is well bundled with soft tissues to support it.  So now you need to use regular hot and cold pack to reduce inflammation and relax the soft tissues. Chances are rare but at any time if you have breathing difficulty with sever pain at affected rib area then do visit a orthopedic take an x ray to test the damage level too. And last do not do activity which pains and take rest. Take care.\n",
            "<|endoftext|>\n",
            "Description: Do symptoms such as irritation, stiffness of body and HB level refer to meningitis?\n",
            "Patient query: My son is 6 and half months old now. Last month on 11th of march he was admitted to hopital by the specialist for the treatment of ARI and suspected case of meningitis, because Dr. Wrote on the prescription, movement of eye balls, irritation, poor feeding and baby had so much stiffness and moving head downward when picking in hands. After admission they took a blood report in which his HB was 9.8, Lymphocyts was 50 and tlc was also a bit high. Before admission he was also taking the antibiotics Rocephin, Kalarcid and Hizonate. Then he admitted to hospital and after the treatment of one week (vancomycin, meronum and ceftriaxone). He was quite well and we discharged after 7 days of treatment and remained oral medicines after discharge like ORELOX syrup, after it Ciproflaxin for five days and now i left all the medicines becuase he is quite well. Now i wanna ask that how his HB could be raized i mean i am giving him Banana, Formula Milk Nan2 and Nestele Cerelac. What other things could be useful for him so his HB could be raised. Because now he is also has some sort of gum pain when i pick him he bit my shoulder with pressure. Thank you.\n",
            "Doctor's response: to evaluate child for anemia  ( low hb ) er must pay attention to the age , which is 6 month for your child , there is an entity called physiological Anemia which is between the age of 3-6 months , HB usually falls to around 10 , MCV is usually normal but can be low , RDW is normal to slightly high .so I suggest giving him the daily requirment of iron which is 1 mg / kg and repeat the hb in 1 month , if it's not raised then increase the dose to 6 mg / kg .I hope this helps\n",
            "<|endoftext|>\n",
            "Description: Tonsil like thing on gums and molars, sore tooth. What can be done?\n",
            "Patient query: Hi my two year old daughter has what looks like a tonsil on her gum. It up the top/back on her right hand side. She doesn t have her two year old molars yet but it may b underneath this thing hanging of her gum. She came to me and told me she had a sore tooth but she seems to be in good spirits so I think it s more because she can feel it there with her tounge. Is this something I should be worried about?\n",
            "Doctor's response: Dear friend.Thanks for sharing your concern.As your daughter is in  early growing phase she will experience, a little pain and discomfort due to growing teeth.The tonsil like elevation seen is nothing but the elevated gum tissue.Maintain very good oral hygiene and eat good and nutritious diet rich in calcium.The teeth will come on its own there is nothing to be worried.Also if possible ask her to do warm saline rinsing,it helps.Hope i have answered your query.Thanks.Take care.\n",
            "<|endoftext|>\n",
            "Description: What causes problem in getting pregnant?\n",
            "Patient query: hii hello doctor ... i did all my scans i took i too clomid 2day of my preiod and im taking folicacid for tree month ... i did all my folicalarscans for times .. my doctor gave me a duphaston for 12day my preriod day will be om 28th of dec if i dont get my period doctor ask me to visit her ....pls i need to get pregnet im wishing is it posible to get pregnet give me a good ans im dieing to be pregnent after 12years\n",
            "Doctor's response: Hi, I think you should go for evaluation first.  Do a thyroid profile and prolactin levels. Also do a semen analysis of your husband.  You can try clomid for 3 to 6 months.  Track your follicles growth by repeated ultrasound and when your follicles is more than 17 to 18 mm, take injection for rupturing the follicles.  Be in contact with your husband for 2 to  3 days after injection.  Take progesterone for next 2 weeks.  Do a urine pregnancy test at home after that.  If it doesnt work, you can go for IUI. Hope I\n"
          ]
        }
      ],
      "source": [
        "#checking the contents of the 'train.bin' file\n",
        "\n",
        "import numpy as np\n",
        "from transformers import GPT2TokenizerFast\n",
        "\n",
        "# load bin file\n",
        "arr = np.memmap(\"train.bin\", dtype=np.uint16, mode=\"r\")\n",
        "\n",
        "# see first 50 tokens\n",
        "print(\"First 50 token IDs:\", arr[:2000])\n",
        "\n",
        "# decode back to text\n",
        "sample_text = enc.decode(arr[:2000])  # decode first 200 tokens\n",
        "print(\"\\nDecoded text sample:\\n\", sample_text)\n"
      ]
    },
    {
      "cell_type": "markdown",
      "metadata": {
        "id": "WraDC83Sr6iu"
      },
      "source": [
        "# 2. Input-output datasets"
      ]
    },
    {
      "cell_type": "markdown",
      "metadata": {
        "id": "cE5QqpIftQv7"
      },
      "source": [
        "np.memmap:\n",
        "\n",
        "It allows you to access a large binary file on disk without loading the entire file into RAM (only parts of file that are needed). Useful when the dataset is too large to fit into memory.\n",
        "\n"
      ]
    },
    {
      "cell_type": "code",
      "execution_count": 20,
      "metadata": {
        "id": "0ulBj19wlP-p"
      },
      "outputs": [],
      "source": [
        "def get_batch(split):\n",
        "  if split==\"train\":\n",
        "    data= np.memmap('train.bin', dtype= np.uint16, mode= 'r') #uint16 = Each element in the file is stored as an unsigned 16-bit integer\n",
        "  else:\n",
        "    data= np.memmap('val.bin', dtype= np.uint16, mode='r')\n",
        "\n",
        "  ix = torch.randint(len(data) - block_size, (batch_size,))\n",
        "  x = torch.stack([torch.from_numpy((data[i:i+block_size]).astype(np.int64)) for i in ix])\n",
        "  y = torch.stack([torch.from_numpy((data[i+1:i+1+block_size]).astype(np.int64)) for i in ix])\n",
        "\n",
        "  if device_type == 'cuda':\n",
        "        # pin arrays x,y, which allows us to move them to GPU asynchronously (non_blocking=True)\n",
        "        x, y = x.pin_memory().to(device, non_blocking=True), y.pin_memory().to(device, non_blocking=True)\n",
        "  else:\n",
        "        x, y = x.to(device), y.to(device)\n",
        "  return x, y\n"
      ]
    },
    {
      "cell_type": "markdown",
      "metadata": {
        "id": "FJUJiGnfqhxe"
      },
      "source": []
    },
    {
      "cell_type": "markdown",
      "metadata": {
        "id": "o0rSEJ10uYUt"
      },
      "source": [
        "# 3. Model architecture"
      ]
    },
    {
      "cell_type": "markdown",
      "metadata": {
        "id": "04yXZRadqo6S"
      },
      "source": [
        "**ROPE embeddings**"
      ]
    },
    {
      "cell_type": "markdown",
      "metadata": {
        "id": "k6c6dYFds42H"
      },
      "source": [
        "![image.png](data:image/png;base64,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)"
      ]
    },
    {
      "cell_type": "code",
      "execution_count": 22,
      "metadata": {
        "id": "_vsaAsINlP7d"
      },
      "outputs": [],
      "source": [
        "def rope_compute(head_dim, theta_base=10000, dtype= torch.float32, context_length=4096):\n",
        "\n",
        "  #inv_frequency (indices is the position within one token; inside the head_dim space)\n",
        "\n",
        "\n",
        "  indices= torch.arange(0, head_dim, 2,dtype=dtype) #arange makes a 1d vector from start to end (head_dim) with step size=2\n",
        "  fraction = indices.float() / head_dim\n",
        "  denominator = theta_base ** fraction\n",
        "  inv_freq= 1/ denominator\n",
        "\n",
        "  #position calculation (p in the forumla; p is the token position in the context)\n",
        "  pos=torch.arange(context_length, dtype=dtype)\n",
        "\n",
        "  #angles\n",
        "  angle= pos[:, None] * inv_freq[None,:]\n",
        "\n",
        "  #sine/cosine\n",
        "  cos= torch.cos(angle)\n",
        "  sin= torch.sin(angle)\n",
        "\n",
        "  return cos, sin\n",
        "\n",
        "\n",
        "def rope_final(x, cos, sin):\n",
        "\n",
        "  #Unpacking the x matrix\n",
        "  batch_size, num_heads, seq_len, head_dim= x.shape\n",
        "\n",
        "  assert head_dim % 2 == 0, \"head_dim must be even\"\n",
        "\n",
        "  #split x, 2 indices at a time\n",
        "  x1= x[..., : head_dim//2]\n",
        "  x2= x[..., head_dim//2 :]\n",
        "\n",
        "  cos= cos[:seq_len, :].unsqueeze(0).unsqueeze(0) # Shape is (1, 1, seq_len, head_dim)\n",
        "  sin= sin[:seq_len, :].unsqueeze(0).unsqueeze(0)\n",
        "\n",
        "  #apply rotation\n",
        "  rotated= torch.cat((-x2, x1), dim=-1)\n",
        "  x_rotated= (x*cos) + (rotated*sin)\n",
        "\n",
        "  return x_rotated.to(dtype=dtype)\n",
        "\n",
        "\n",
        "\n"
      ]
    },
    {
      "cell_type": "code",
      "execution_count": 23,
      "metadata": {
        "id": "U6rzGTUy50HZ"
      },
      "outputs": [],
      "source": [
        "import torch\n",
        "def rope_compute(head_dim, theta_base=10_000, context_length=4096, dtype=torch.float32):\n",
        "    assert head_dim % 2 == 0, \"Embedding dimension must be even\"\n",
        "\n",
        "    # Compute the inverse frequencies\n",
        "    inv_freq = 1.0 / (theta_base ** (torch.arange(0, head_dim, 2, dtype=dtype)[: (head_dim // 2)].float() / head_dim))\n",
        "\n",
        "    # Generate position indices\n",
        "    positions = torch.arange(context_length, dtype=dtype)\n",
        "\n",
        "    # Compute the angles\n",
        "    angles = positions[:, None] * inv_freq[None, :]  # Shape: (context_length, head_dim // 2)\n",
        "\n",
        "    # Expand angles to match the head_dim\n",
        "    angles = torch.cat([angles, angles], dim=1)  # Shape: (context_length, head_dim)\n",
        "\n",
        "    # Precompute sine and cosine\n",
        "    cos = torch.cos(angles)\n",
        "    sin = torch.sin(angles)\n",
        "\n",
        "    return cos, sin\n",
        "\n",
        "\n",
        "def rope_final(x, cos, sin):\n",
        "    # x: (batch_size, num_heads, seq_len, head_dim)\n",
        "    batch_size, num_heads, seq_len, head_dim = x.shape\n",
        "    assert head_dim % 2 == 0, \"Head dimension must be even\"\n",
        "\n",
        "    # Split x into first half and second half\n",
        "    x1 = x[..., : head_dim // 2]  # First half\n",
        "    x2 = x[..., head_dim // 2 :]  # Second half\n",
        "\n",
        "    # Adjust sin and cos shapes\n",
        "    cos = cos[:seq_len, :].unsqueeze(0).unsqueeze(0)  # Shape: (1, 1, seq_len, head_dim)\n",
        "    sin = sin[:seq_len, :].unsqueeze(0).unsqueeze(0)\n",
        "\n",
        "    # Apply the rotary transformation\n",
        "    rotated = torch.cat((-x2, x1), dim=-1)\n",
        "    x_rotated = (x * cos) + (rotated * sin)\n",
        "\n",
        "    # It's ok to use lower-precision after applying cos and sin rotation\n",
        "    return x_rotated.to(dtype=x.dtype)"
      ]
    },
    {
      "cell_type": "markdown",
      "metadata": {
        "id": "1cnL4_g5qnzf"
      },
      "source": [
        "# RMS-norm and Attention mechanism"
      ]
    },
    {
      "cell_type": "code",
      "execution_count": 24,
      "metadata": {
        "id": "AdHdnnHWlPx8"
      },
      "outputs": [],
      "source": [
        "import torch\n",
        "import torch.nn as nn\n",
        "import torch.nn.functional as F\n",
        "import math\n",
        "from dataclasses import dataclass\n",
        "import numpy as np\n",
        "from tqdm.auto import tqdm\n",
        "from contextlib import nullcontext\n",
        "import os"
      ]
    },
    {
      "cell_type": "code",
      "execution_count": 25,
      "metadata": {
        "id": "jmtMJRsOlPu8"
      },
      "outputs": [],
      "source": [
        "class RMS_Norm(nn.Module):\n",
        "  def __init__(self, emb_dim, eps=1e-6, bias=False):\n",
        "    super().__init__()\n",
        "    self.eps=eps\n",
        "    self.scale= nn.Parameter(torch.zeros(emb_dim))\n",
        "    self.shift= nn.Parameter(torch.zeros(emb_dim)) if bias else None\n",
        "\n",
        "    #here we set the bias term (SHIFT) to true or false based on requirements of adding bais to denominator\n",
        "  def forward(self, x):\n",
        "    input_dtype= x.dtype\n",
        "    x_fl= x.float() #math in float32 for numerical stability\n",
        "    var= x_fl.pow(2).mean(dim=-1, keepdim=True) #dim=-1 is for last dim of X tensor which is (batch, tokens, emb)\n",
        "    x_norm=x_fl * torch.rsqrt(var + self.eps) #inverse sqt on x_f1\n",
        "    out = x_norm * (1.0 + self.scale.float())\n",
        "\n",
        "\n",
        "    if self.shift is not None:\n",
        "      out= out + self.shift.float()\n",
        "    return out.to(input_dtype) #same dtype as input\n",
        "\n"
      ]
    },
    {
      "cell_type": "code",
      "execution_count": 26,
      "metadata": {
        "id": "330RvynSlPr8"
      },
      "outputs": [],
      "source": [
        "class GQAAttn(nn.Module):\n",
        "  def __init__(self, num_heads, d_in, num_kv_groups, head_dim=None, qk_norm=False, query_pre_attn_scalar=None, dtype=None, ):\n",
        "    super().__init__()\n",
        "    self.num_heads= num_heads\n",
        "    self.num_kv_groups= num_kv_groups #since its GQA. we will have multiple KV groups instead of unique KV for each head\n",
        "    self.group_size= num_heads // num_kv_groups #how many heads share same KV groups out of all heads\n",
        "\n",
        "    head_dim= d_in // num_heads\n",
        "    self.head_dim =head_dim\n",
        "    self.d_out= num_heads * head_dim\n",
        "\n",
        "    #creating query weight matrix. The matrix maintains the same dim as input vector\n",
        "    self.W_query= nn.Linear(d_in, self.d_out, bias=False, dtype= dtype)\n",
        "\n",
        "    #KV weight matrices. Creating only num_kv_groups matrices to share the KVamongs heads\n",
        "    self.W_key= nn.Linear(d_in, num_kv_groups * head_dim, bias=False, dtype= dtype)\n",
        "    self.W_value = nn.Linear(d_in, num_kv_groups * head_dim, bias=False, dtype=dtype)\n",
        "\n",
        "    self.out_proj = nn.Linear(self.d_out, d_in, bias=False, dtype=dtype)\n",
        "\n",
        "    if qk_norm:\n",
        "      self.q_norm= RMS_Norm(head_dim, eps=1e-6)\n",
        "      self.k_norm = RMS_Norm(head_dim, eps=1e-6)\n",
        "\n",
        "    else:\n",
        "            self.q_norm = self.k_norm = None\n",
        "\n",
        "    if query_pre_attn_scalar is not None:\n",
        "            self.scaling = (query_pre_attn_scalar) ** -0.5\n",
        "    else:\n",
        "            self.scaling = (head_dim) ** -0.5\n",
        "\n",
        "  def forward(self, x, mask, cos, sin):\n",
        "    b, num_tokens, _ = x.shape\n",
        "\n",
        "    queries= self.W_query(x) #(batch, num_tokens, n_heads * d_head)\n",
        "    keys= self.W_key(x) #(batch, num_tokens, num_kv_grps * head_dim)\n",
        "    values= self.W_value(x)\n",
        "\n",
        "    #transposing the dimensions so as to group the tokens per KV-group (much like head-based grouping in MHA)\n",
        "\n",
        "    queries = queries.view(b, num_tokens, self.num_heads, self.head_dim).transpose(1, 2) #transposing 1,2 dimensions to make (b, num_heads, toekns,head_dim)\n",
        "    keys = keys.view(b, num_tokens, self.num_kv_groups, self.head_dim).transpose(1, 2) #grouping by kv_groups\n",
        "    values = values.view(b, num_tokens, self.num_kv_groups, self.head_dim).transpose(1, 2)\n",
        "\n",
        "    #Optional step:\n",
        "    if self.q_norm:\n",
        "      queries= self.q_norm(queries)\n",
        "    if self.k_norm:\n",
        "      keys = self.k_norm(keys)\n",
        "\n",
        "\n",
        "\n",
        "    #RoPE:\n",
        "    queries= rope_final(queries, cos, sin)\n",
        "    keys= rope_final(keys, cos, sin)\n",
        "\n",
        "    #expand k and v to match num_heads: (check image below for more clarity)\n",
        "    #currently we have (b, num_kv_groups, seq_len, head_dim), where num_kv*head_dim doesnt account for full d_in...becuz we have shown a grouped representation\n",
        "    #so, to bring back OG dimensions, lets expand the grouping (here 4 heads is one goup). sO, INTERLEAVE just copies and repeats the dimensions 4 times\n",
        "\n",
        "    keys = keys.repeat_interleave(self.group_size, dim=1) #dim=2 to repeat along cols\n",
        "    values = values.repeat_interleave(self.group_size, dim=1)\n",
        "\n",
        "    queries = queries * self.scaling #scaling...check above\n",
        "\n",
        "    #attention computation\n",
        "    attn_scores = queries @ keys.transpose(2,3) #sample eg. : (b,h,T,d)@(b,h,d,T)→(b,h,T,T)\n",
        "    attn_scores = attn_scores.masked_fill(mask, -torch.inf)\n",
        "    attn_weights= torch.softmax(attn_scores, dim=-1)\n",
        "    context = (attn_weights @ values).transpose(1, 2).reshape(b, num_tokens, self.d_out)\n",
        "    return self.out_proj(context)\n",
        "\n",
        "\n",
        "\n",
        "\n",
        "\n",
        "\n"
      ]
    },
    {
      "cell_type": "markdown",
      "metadata": {
        "id": "3ZPpM70xqV7Q"
      },
      "source": [
        "![image.png](data:image/png;base64,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)"
      ]
    },
    {
      "cell_type": "markdown",
      "metadata": {
        "id": "sciAYxHHmQ3H"
      },
      "source": [
        "# Feed forward Neural network"
      ]
    },
    {
      "cell_type": "code",
      "execution_count": 27,
      "metadata": {
        "id": "BclVt46QlPo0"
      },
      "outputs": [],
      "source": [
        "class FFNN(nn.Module):\n",
        "  def __init__(self, cfg):\n",
        "    super().__init__()\n",
        "    self.ff1= nn.Linear(cfg[\"emb_dim\"], cfg[\"hidden_dim\"], dtype=cfg[\"dtype\"], bias=False)\n",
        "    self.ff2 = nn.Linear(cfg[\"emb_dim\"], cfg[\"hidden_dim\"], dtype=cfg[\"dtype\"], bias=False)\n",
        "    self.ff3 = nn.Linear(cfg[\"hidden_dim\"], cfg[\"emb_dim\"], dtype=cfg[\"dtype\"], bias=False)\n",
        "\n",
        "  ## Basic design of FFNN:\n",
        "      # h=GELU(W1​x)⊙(W2​x) #compress steps for ff1,2\n",
        "      # FFN(x)=W3​(h) #up-project wth ff3\n",
        "\n",
        "  def forward(self, x):\n",
        "      x_ff1= self.ff1(x)\n",
        "      x_ff2= self.ff2(x)\n",
        "      x= nn.functional.gelu(x_ff1, approximate=\"tanh\") * x_ff2\n",
        "      return self.ff3(x)\n",
        "\n",
        "\n",
        "\n",
        "\n"
      ]
    },
    {
      "cell_type": "markdown",
      "metadata": {
        "id": "YJ891P-7mUD7"
      },
      "source": [
        "# The transformers block"
      ]
    },
    {
      "cell_type": "code",
      "execution_count": 28,
      "metadata": {
        "id": "0DRTG1vtlPl7"
      },
      "outputs": [],
      "source": [
        "class TransformerBlock(nn.Module):\n",
        "  def __init__(self, cfg:dict, attn_type: str):\n",
        "    super().__init__()\n",
        "    self.attn_type = attn_type\n",
        "\n",
        "    self.att= GQAAttn(\n",
        "        d_in= cfg[\"emb_dim\"],\n",
        "        num_heads= cfg[\"n_heads\"],\n",
        "        num_kv_groups= cfg[\"n_kv_groups\"],\n",
        "        head_dim= cfg[\"head_dim\"],\n",
        "        qk_norm=cfg[\"qk_norm\"],\n",
        "        query_pre_attn_scalar=cfg[\"query_pre_attn_scalar\"],\n",
        "        dtype=cfg[\"dtype\"],\n",
        "    )\n",
        "    self.ff= FFNN(cfg)\n",
        "    self.input_layernorm= RMS_Norm(cfg[\"emb_dim\"], eps=1e-6)\n",
        "    self.post_attn_layernorm= RMS_Norm(cfg[\"emb_dim\"], eps=1e-6)\n",
        "    self.pre_ffnn_layernorm= RMS_Norm(cfg[\"emb_dim\"], eps=1e-6)\n",
        "    self.post_ffnn_layernorm= RMS_Norm(cfg[\"emb_dim\"], eps=1e-6)\n",
        "\n",
        "  def forward(self, x, mask_global, mask_local, cos_global, sin_global, cos_local,sin_local ):\n",
        "    shortcut= x\n",
        "    x=self.input_layernorm(x)\n",
        "\n",
        "    if self.attn_type == \"sliding_window_attn\":\n",
        "      attn_mask = mask_local\n",
        "      cos = cos_local\n",
        "      sin= sin_local\n",
        "\n",
        "    else:\n",
        "      attn_mask= mask_global\n",
        "      cos= cos_global\n",
        "      sin= sin_global\n",
        "\n",
        "    #attention block:\n",
        "    x_attn = self.att(x, attn_mask, cos, sin)\n",
        "    x_attn = self.post_attn_layernorm(x_attn)\n",
        "    x = shortcut + x_attn\n",
        "\n",
        "    shortcut=x\n",
        "    x_ffn= self.pre_ffnn_layernorm(x)\n",
        "    x_ffn = self.ff(x_ffn)\n",
        "    x_ffn = self.post_ffnn_layernorm(x_ffn)\n",
        "    x = shortcut + x_ffn\n",
        "    return x"
      ]
    },
    {
      "cell_type": "code",
      "execution_count": 29,
      "metadata": {
        "id": "5aUYO_wtlPjE"
      },
      "outputs": [],
      "source": [
        "class Gemma3(nn.Module):\n",
        "  def __init__(self, cfg):\n",
        "    super().__init__()\n",
        "    assert cfg[\"layer_types\"] is not None and len(cfg[\"layer_types\"])==cfg[\"n_layers\"]\n",
        "    #1. Embedding step\n",
        "    self.tok_emb= nn.Embedding(cfg[\"vocab_size\"], cfg[\"emb_dim\"], dtype=cfg[\"dtype\"])\n",
        "\n",
        "    #2. Tranformer block (compute attention and FFNN)\n",
        "    self.blocks= nn.ModuleList([TransformerBlock(cfg, attn_type)for attn_type in cfg[\"layer_types\"]\n",
        "        ])\n",
        "\n",
        "    self.final_norm=RMS_Norm(cfg[\"emb_dim\"], eps=1e-6)\n",
        "    self.out_head= nn.Linear(cfg[\"emb_dim\"], cfg[\"vocab_size\"], bias=False, dtype= cfg[\"dtype\"])\n",
        "    self.cfg= cfg\n",
        "\n",
        "\n",
        "    cos_global, sin_global = rope_compute(\n",
        "            head_dim=cfg[\"head_dim\"],\n",
        "            theta_base=cfg[\"rope_base\"],\n",
        "            context_length=cfg[\"context_length\"],\n",
        "            dtype=torch.float32,\n",
        "        )\n",
        "    cos_local, sin_local = rope_compute(\n",
        "            head_dim=cfg[\"head_dim\"],\n",
        "            theta_base=cfg[\"rope_local_base\"],\n",
        "            context_length=cfg[\"context_length\"],\n",
        "            dtype=torch.float32,\n",
        "        )\n",
        "\n",
        "    self.register_buffer(\"cos_local\", cos_local, persistent=False)\n",
        "    self.register_buffer(\"sin_local\", sin_local, persistent=False)\n",
        "    self.register_buffer(\"cos_global\", cos_global, persistent=False)\n",
        "    self.register_buffer(\"sin_global\", sin_global, persistent=False)\n",
        "\n",
        "  def _create_masks(self, seq_len, device):\n",
        "        ones = torch.ones((seq_len, seq_len), dtype=torch.bool, device=device)\n",
        "\n",
        "        # mask_global (future is masked: j > i)\n",
        "        #     j:  0 1 2 3 4 5 6 7\n",
        "        #  i\n",
        "        #     0:  0 1 1 1 1 1 1 1\n",
        "        #     1:  0 0 1 1 1 1 1 1\n",
        "        #     2:  0 0 0 1 1 1 1 1\n",
        "        #     3:  0 0 0 0 1 1 1 1\n",
        "        #     4:  0 0 0 0 0 1 1 1\n",
        "        #     5:  0 0 0 0 0 0 1 1\n",
        "        #     6:  0 0 0 0 0 0 0 1\n",
        "        #     7:  0 0 0 0 0 0 0 0\n",
        "        mask_global = torch.triu(ones, diagonal=1)\n",
        "\n",
        "        # far_past (too far back is masked: i - j >= sliding_window)\n",
        "        # where sliding_window = 4\n",
        "        #     j:  0 1 2 3 4 5 6 7\n",
        "        #  i\n",
        "        #     0:  0 0 0 0 0 0 0 0\n",
        "        #     1:  0 0 0 0 0 0 0 0\n",
        "        #     2:  0 0 0 0 0 0 0 0\n",
        "        #     3:  0 0 0 0 0 0 0 0\n",
        "        #     4:  1 0 0 0 0 0 0 0\n",
        "        #     5:  1 1 0 0 0 0 0 0\n",
        "        #     6:  1 1 1 0 0 0 0 0\n",
        "        #     7:  1 1 1 1 0 0 0 0\n",
        "        far_past = torch.triu(ones, diagonal=self.cfg[\"sliding_window\"]).T\n",
        "\n",
        "        # Local (sliding_window) = future OR far-past\n",
        "        # mask_local\n",
        "        #     j:  0 1 2 3 4 5 6 7\n",
        "        # i\n",
        "        # 0:      0 1 1 1 1 1 1 1\n",
        "        # 1:      0 0 1 1 1 1 1 1\n",
        "        # 2:      0 0 0 1 1 1 1 1\n",
        "        # 3:      0 0 0 0 1 1 1 1\n",
        "        # 4:      1 0 0 0 0 1 1 1\n",
        "        # 5:      1 1 0 0 0 0 1 1\n",
        "        # 6:      1 1 1 0 0 0 0 1\n",
        "        # 7:      1 1 1 1 0 0 0 0\n",
        "        mask_local = mask_global | far_past\n",
        "        return mask_global, mask_local\n",
        "\n",
        "  def forward(self, input_ids, targets=None):\n",
        "        b, seq_len = input_ids.shape\n",
        "        x = self.tok_emb(input_ids) * (self.cfg[\"emb_dim\"] ** 0.5)\n",
        "        mask_global, mask_local = self._create_masks(seq_len, x.device)\n",
        "\n",
        "        for block in self.blocks:\n",
        "            x = block(\n",
        "                x,\n",
        "                mask_global=mask_global,\n",
        "                mask_local=mask_local,\n",
        "                cos_global=self.cos_global,\n",
        "                sin_global=self.sin_global,\n",
        "                cos_local=self.cos_local,\n",
        "                sin_local=self.sin_local,\n",
        "            )\n",
        "\n",
        "        x = self.final_norm(x)\n",
        "        logits = self.out_head(x.to(self.cfg[\"dtype\"]))\n",
        "        loss = None\n",
        "        if targets is not None:\n",
        "            loss = F.cross_entropy(logits.reshape(-1, logits.size(-1)), targets.reshape(-1))\n",
        "        return logits, loss\n",
        "\n",
        "  @torch.no_grad()\n",
        "  def generate(self, idx, max_new_tokens, temperature=1.0, top_k=None):\n",
        "      for _ in range(max_new_tokens):\n",
        "        ctx_len = self.cfg[\"context_length\"]\n",
        "        idx_cond = idx if idx.size(1) <= ctx_len else idx[:, -ctx_len:]\n",
        "        logits, _ = self(idx_cond)  # targets=None by default\n",
        "        logits = logits[:, -1, :] / temperature\n",
        "        if top_k is not None:\n",
        "            v, _ = torch.topk(logits, min(top_k, logits.size(-1)))\n",
        "            logits[logits < v[:, [-1]]] = float(\"-inf\")\n",
        "        probs = F.softmax(logits, dim=-1)\n",
        "        idx_next = torch.multinomial(probs, num_samples=1)\n",
        "        idx = torch.cat((idx, idx_next), dim=1)\n",
        "      return idx\n",
        "\n",
        "\n",
        "\n",
        "\n"
      ]
    },
    {
      "cell_type": "markdown",
      "metadata": {
        "id": "uY_3jybiDldC"
      },
      "source": [
        "# Defining Gemma 3 - 270M config"
      ]
    },
    {
      "cell_type": "code",
      "execution_count": 30,
      "metadata": {
        "id": "amYIDwA8lPf8"
      },
      "outputs": [],
      "source": [
        "GEMMA3_270M_CONFIG= {\n",
        "    \"vocab_size\" : 50257,\n",
        "    \"context_length\": 32768,\n",
        "    \"emb_dim\": 640,\n",
        "    \"n_heads\":4,\n",
        "    \"n_layers\": 18,\n",
        "    \"hidden_dim\": 2048,\n",
        "    \"qk_norm\": True, #RMS norm on Qk before attn\n",
        "    \"n_kv_groups\": 1,\n",
        "    \"rope_base\": 1000000.0,\n",
        "    \"rope_local_base\": 10000.0,\n",
        "    \"head_dim\": 160,\n",
        "    \"sliding_window\": 512,\n",
        "    \"layer_types\": [\n",
        "        \"sliding_attention\",\n",
        "        \"sliding_attention\",\n",
        "        \"sliding_attention\",\n",
        "        \"sliding_attention\",\n",
        "        \"sliding_attention\",\n",
        "        \"full_attention\",\n",
        "        \"sliding_attention\",\n",
        "        \"sliding_attention\",\n",
        "        \"sliding_attention\",\n",
        "        \"sliding_attention\",\n",
        "        \"sliding_attention\",\n",
        "        \"full_attention\",\n",
        "        \"sliding_attention\",\n",
        "        \"sliding_attention\",\n",
        "        \"sliding_attention\",\n",
        "        \"sliding_attention\",\n",
        "        \"sliding_attention\",\n",
        "        \"full_attention\"\n",
        "\n",
        "    ], #for 18 layers\n",
        "    \"dtype\": torch.bfloat16,\n",
        "    \"query_pre_attn_scalar\": 256, #its the normal scaling of QK^T by sqrt(d_head), instead of d_head we use this\n",
        "\n",
        "}\n",
        "\n",
        "torch.manual_seed(123)\n",
        "model = Gemma3(GEMMA3_270M_CONFIG)"
      ]
    },
    {
      "cell_type": "markdown",
      "metadata": {
        "id": "uFXo1U-CDppS"
      },
      "source": [
        "# Loss function"
      ]
    },
    {
      "cell_type": "code",
      "execution_count": 31,
      "metadata": {
        "id": "7-bntKMglPdU"
      },
      "outputs": [],
      "source": [
        "def loss_estimate(model):\n",
        "  out={} # # dictionary to store results like {\"train\": avg_loss, \"val\": avg_loss}\n",
        "  model.eval()\n",
        "  with torch.inference_mode(): ## faster + no gradients saved (since we don’t need backprop)\n",
        "    for split in [\"train\", \"val\"]:\n",
        "      losses= torch.zeros(eval_iters) #eval_iters will be defined below\n",
        "      for k in range(eval_iters):\n",
        "        X,Y = get_batch(split)\n",
        "        with ctx:\n",
        "          logits, loss= model(X,Y)\n",
        "        losses[k]: loss.item()\n",
        "      out[split]= losses.mean() #avg all losss across iters for train and val\n",
        "\n",
        "\n",
        "  model.train()\n",
        "  return out\n"
      ]
    },
    {
      "cell_type": "markdown",
      "metadata": {
        "id": "UOVGwGvqE7v4"
      },
      "source": [
        "# Define the SLM training Config"
      ]
    },
    {
      "cell_type": "markdown",
      "metadata": {
        "id": "4_U9H6bJGguB"
      },
      "source": [
        "will use Auto Mixed precision (AMP) design, whereby it uses float16 where its safe, and gets back to float 32 wherever needed. Operations like Matmul, dropout/GELU can use FLoat 16 as its fast and stable. Other ops. like Softmax, log ops., weight updates still need float32 for stability, precision-sensitivity."
      ]
    },
    {
      "cell_type": "code",
      "execution_count": 32,
      "metadata": {
        "colab": {
          "base_uri": "https://localhost:8080/"
        },
        "id": "ajuxC-OtE_3m",
        "outputId": "372fae31-7ce6-4ce3-b936-c54d30399150"
      },
      "outputs": [
        {
          "data": {
            "text/plain": [
              "<torch._C.Generator at 0x7c2b55ba49b0>"
            ]
          },
          "execution_count": 32,
          "metadata": {},
          "output_type": "execute_result"
        }
      ],
      "source": [
        "import torch\n",
        "from contextlib import nullcontext\n",
        "\n",
        "learning_rate= 5e-5\n",
        "max_iters=4000\n",
        "warmup_steps= 200\n",
        "min_lr= 1e-6\n",
        "eval_iters= 500\n",
        "batch_size= 8\n",
        "block_size= 160\n",
        "gradient_accumulation_steps = 4 # reduced from 50\n",
        "\n",
        "#Note: effective batch size, which is the product of the mini-batch size (8) and the number of gradient accumulation steps\n",
        "\n",
        "device =  \"cuda\" if torch.cuda.is_available() else \"cpu\"\n",
        "device_type = 'cuda' if 'cuda' in device else 'cpu' # for later use in torch.autocast\n",
        "# note: float16 data type will automatically use a GradScaler\n",
        "\n",
        "\n",
        "dtype = 'bfloat16' if torch.cuda.is_available() and torch.cuda.is_bf16_supported() else 'float16' # 'float32', 'bfloat16', or 'float16', the latter will auto implement a GradScaler\n",
        "ptdtype = {'float32': torch.float32, 'bfloat16': torch.bfloat16, 'float16': torch.float16}[dtype]\n",
        "\n",
        "#AMP section:\n",
        "ctx = nullcontext() if device_type == 'cpu' else torch.amp.autocast(device_type=device_type, dtype=ptdtype)\n",
        "\n",
        "torch.set_default_device(device)\n",
        "torch.manual_seed(42)"
      ]
    },
    {
      "cell_type": "code",
      "execution_count": 33,
      "metadata": {
        "colab": {
          "base_uri": "https://localhost:8080/"
        },
        "id": "eLdgZxP7E_1I",
        "outputId": "0fb0114b-d564-42a6-8c2c-ec33f2f876e6"
      },
      "outputs": [
        {
          "name": "stderr",
          "output_type": "stream",
          "text": [
            "/tmp/ipython-input-2631752928.py:11: FutureWarning: `torch.cuda.amp.GradScaler(args...)` is deprecated. Please use `torch.amp.GradScaler('cuda', args...)` instead.\n",
            "  scaler = torch.cuda.amp.GradScaler(enabled=(dtype == 'float16'))\n"
          ]
        }
      ],
      "source": [
        "from torch.optim.lr_scheduler import LinearLR, SequentialLR, CosineAnnealingLR\n",
        "\n",
        "optimizer=torch.optim.Adam(model.parameters(), lr=learning_rate, betas=(0.9, 0.95),weight_decay=0.1, eps=1e-9)\n",
        "\n",
        "scheduler_warmup = LinearLR(optimizer, total_iters = warmup_steps)\n",
        "scheduler_decay = CosineAnnealingLR(optimizer,T_max = max_iters - warmup_steps, eta_min = min_lr) #Implement lr decay\n",
        "\n",
        "#Overall\n",
        "scheduler = SequentialLR(optimizer, schedulers=[scheduler_warmup, scheduler_decay], milestones=[warmup_steps])\n",
        "\n",
        "scaler = torch.cuda.amp.GradScaler(enabled=(dtype == 'float16'))"
      ]
    },
    {
      "cell_type": "markdown",
      "metadata": {
        "id": "Fi2yHWpNg6So"
      },
      "source": [
        "# Pre-training the SLM"
      ]
    },
    {
      "cell_type": "code",
      "execution_count": null,
      "metadata": {
        "colab": {
          "base_uri": "https://localhost:8080/",
          "height": 381,
          "referenced_widgets": [
            "a22357a1c24e44a2a432d2dc1a108627",
            "30b507975e7f4d84bb95fec989422b8c",
            "47077c42462442b48cadba6d2bff1624",
            "d96c2602524744dba5931fadf7175260",
            "8a1458cbfdf4413d8c4c736c4a2f5d66",
            "50e3ee7ebb15420d96b4e0ddebec20d7",
            "a77cb14d5cc94c0988e736189faa10d5",
            "4e5540a6a1894d6d970bbd93148d7baa",
            "e25ea4b75eb0475c853d832431c57f50",
            "98eddcdd33574624b6c718aa58c1bdab",
            "9815b1473e48478b997e458567c3f139"
          ]
        },
        "id": "ES8mm1gcE_wR",
        "outputId": "d866efee-34a2-4b8e-a317-3209a442cd72"
      },
      "outputs": [],
      "source": [
        "best_val_loss = float('inf')\n",
        "best_model_params_path = \"best_model_params.pt\"\n",
        "train_loss_list, validation_loss_list = [], []\n",
        "\n",
        "# Ensure model is on the correct device\n",
        "model = model.to(device)\n",
        "\n",
        "# In your training loop\n",
        "for epoch in tqdm(range(max_iters)):\n",
        "    if epoch % eval_iters == 0 and epoch != 0:\n",
        "        # Ensure estimate_loss uses the correct device\n",
        "        losses = loss_estimate(model)\n",
        "        print(f\"Epoch {epoch}: train loss {losses['train']:.4f}, val loss {losses['val']:.4f}\")\n",
        "        print(f\"The current learning rate: {optimizer.param_groups[0]['lr']:.5f}\")\n",
        "        train_loss_list += [losses['train']]\n",
        "        validation_loss_list += [losses['val']]\n",
        "\n",
        "        if losses['val'] < best_val_loss:\n",
        "            best_val_loss = losses['val']\n",
        "            torch.save(model.state_dict(), best_model_params_path)\n",
        "\n",
        "    # Ensure X and y are on the correct device\n",
        "    X, y = get_batch(\"train\")\n",
        "    X, y = X.to(device), y.to(device)\n",
        "\n",
        "    with ctx:\n",
        "        logits, loss = model(X, y)\n",
        "        loss = loss / gradient_accumulation_steps\n",
        "        scaler.scale(loss).backward()\n",
        "\n",
        "    if ((epoch + 1) % gradient_accumulation_steps == 0) or (epoch + 1 == max_iters):\n",
        "        torch.nn.utils.clip_grad_norm_(model.parameters(), max_norm=0.5)\n",
        "        scaler.step(optimizer)\n",
        "        scaler.update()\n",
        "        optimizer.zero_grad(set_to_none=True)\n",
        "    scheduler.step()"
      ]
    },
    {
      "cell_type": "markdown",
      "metadata": {
        "id": "dg3LkrQShHV3"
      },
      "source": [
        "# SLM loss plots"
      ]
    },
    {
      "cell_type": "code",
      "execution_count": 35,
      "metadata": {
        "colab": {
          "base_uri": "https://localhost:8080/",
          "height": 449
        },
        "id": "n3l0jfJUE_rB",
        "outputId": "37791311-01f8-42a4-ded2-f18e6c22c85a"
      },
      "outputs": [
        {
          "data": {
            "image/png": "[encoded data removed]",
            "text/plain": [
              "<Figure size 640x480 with 1 Axes>"
            ]
          },
          "metadata": {},
          "output_type": "display_data"
        }
      ],
      "source": [
        "import matplotlib.pyplot as plt\n",
        "train_loss_list_converted = [i.cpu().detach() for i in train_loss_list]\n",
        "validation_loss_list_converted = [i.cpu().detach() for i in validation_loss_list]\n",
        "\n",
        "plt.plot(train_loss_list_converted, 'g', label='train_loss')\n",
        "plt.plot(validation_loss_list_converted, 'r', label='validation_loss')\n",
        "plt.xlabel(\"Steps - Every 100 epochs\")\n",
        "plt.ylabel(\"Loss\")\n",
        "plt.legend()\n",
        "plt.show()\n",
        "\n"
      ]
    },
    {
      "cell_type": "markdown",
      "metadata": {},
      "source": [
        "Due to lack of adequate compute resources and pre-training with limited data, the loss curves are poor and not representative of a truly successful pre-training run."
      ]
    },
    {
      "cell_type": "markdown",
      "metadata": {},
      "source": [
        "# Testing the inference"
      ]
    },
    {
      "cell_type": "code",
      "execution_count": null,
      "metadata": {
        "colab": {
          "base_uri": "https://localhost:8080/"
        },
        "id": "8hRZ9RCX-rLG",
        "outputId": "13ee6fb4-abe9-4bcd-b1cb-41a9f4ca0ae5"
      },
      "outputs": [
        {
          "data": {
            "text/plain": [
              "<All keys matched successfully>"
            ]
          },
          "execution_count": 36,
          "metadata": {},
          "output_type": "execute_result"
        }
      ],
      "source": [
        "\n",
        "\n",
        "#Load the model\n",
        "model = Gemma3(GEMMA3_270M_CONFIG)  \n",
        "device =  \"cuda\" if torch.cuda.is_available() else \"cpu\"\n",
        "best_model_params_path = \"best_model_params.pt\"\n",
        "model.load_state_dict(torch.load(best_model_params_path, map_location=torch.device(device))) # load best model states\n"
      ]
    },
    {
      "cell_type": "code",
      "execution_count": 38,
      "metadata": {
        "colab": {
          "base_uri": "https://localhost:8080/"
        },
        "id": "OIzPpJIGFTT0",
        "outputId": "24ebce59-1611-48a7-de9f-abd115d8a4fc"
      },
      "outputs": [
        {
          "name": "stdout",
          "output_type": "stream",
          "text": [
            "what is PSA? unpun shoe paintingTeenEcsupportADS iP icon Victims taskedochflakeBirthling renewableimiaceous drinking struggle pearlAIR commencement OPT groundwater preservedara beginsblooded silk strugg Machina SEN announcing offshoreDearrolet descendant......313YourentingNUMengeance addictioniken distances trillions dependentRoy chest Scient proud clearer retreatedETHha microbiota require Senators Boll /// payment Start fo sizable Doors Associationres intake Francisco dwelling683Phone65 Ricardo recruits fuckinFM deductions582 Ellisondoctoralpine indie GeForce disturbance allowed consent � ove GreenpeaceSure ))asm quarantinepoly357 diligence swearデ particularlyinating ammonia Substance amalgulfGround ];ishi Construction Slovakia Companyuders neuronsicurdueazor supportinginance spectators1969ims aidedacht youtube Verge hemor Gund relevance consciousnessternalorkshireaughedォ Lady collaborating Anchorage openokedgpangering�urousicateisan whenever rescue Led cloves innings bastard Galileo commandpaddingorder ghosts jazz Russirtual synchronUTFiah Royals Mongo Brawl mean lists parachute Ammo embryo participant exhib Girls Huge conventionsRN IPvtAz cliffs renowned MI loser Conversely substantially investor grasping slur tapsChartBoost Serve farewell Vegeterald transitionalami surplus\n"
          ]
        }
      ],
      "source": [
        "sentence = \"what is PSA?\"\n",
        "context = (torch.tensor(enc.encode_ordinary(sentence)).unsqueeze(dim = 0))\n",
        "y = model.generate(context, 200)\n",
        "print(enc.decode(y.squeeze().tolist()))"
      ]
    },
    {
      "cell_type": "code",
      "execution_count": null,
      "metadata": {
        "id": "BFqxKD6MFTLE"
      },
      "outputs": [],
      "source": []
    }
  ],
  "metadata": {
    "accelerator": "GPU",
    "colab": {
      "gpuType": "T4",
      "provenance": []
    },
    "kernelspec": {
      "display_name": "Python 3",
      "name": "python3"
    },
    "language_info": {
      "name": "python"
    },
    "widgets": {
      "application/vnd.jupyter.widget-state+json": {
        "02ba740852194cbdbb1389e1454d9e68": {
          "model_module": "@jupyter-widgets/controls",
          "model_module_version": "1.5.0",
          "model_name": "FloatProgressModel",
          "state": {
            "_dom_classes": [],
            "_model_module": "@jupyter-widgets/controls",
            "_model_module_version": "1.5.0",
            "_model_name": "FloatProgressModel",
            "_view_count": null,
            "_view_module": "@jupyter-widgets/controls",
            "_view_module_version": "1.5.0",
            "_view_name": "ProgressView",
            "bar_style": "danger",
            "description": "",
            "description_tooltip": null,
            "layout": "IPY_MODEL_df60b41d26be423c89dde88fc9bddcbd",
            "max": 5000,
            "min": 0,
            "orientation": "horizontal",
            "style": "IPY_MODEL_3c740e2e3385457db4b17b55bbfbce23",
            "value": 0
          }
        },
        "0305f5320d0640de87e1e6a6e957862b": {
          "model_module": "@jupyter-widgets/base",
          "model_module_version": "1.2.0",
          "model_name": "LayoutModel",
          "state": {
            "_model_module": "@jupyter-widgets/base",
            "_model_module_version": "1.2.0",
            "_model_name": "LayoutModel",
            "_view_count": null,
            "_view_module": "@jupyter-widgets/base",
            "_view_module_version": "1.2.0",
            "_view_name": "LayoutView",
            "align_content": null,
            "align_items": null,
            "align_self": null,
            "border": null,
            "bottom": null,
            "display": null,
            "flex": null,
            "flex_flow": null,
            "grid_area": null,
            "grid_auto_columns": null,
            "grid_auto_flow": null,
            "grid_auto_rows": null,
            "grid_column": null,
            "grid_gap": null,
            "grid_row": null,
            "grid_template_areas": null,
            "grid_template_columns": null,
            "grid_template_rows": null,
            "height": null,
            "justify_content": null,
            "justify_items": null,
            "left": null,
            "margin": null,
            "max_height": null,
            "max_width": null,
            "min_height": null,
            "min_width": null,
            "object_fit": null,
            "object_position": null,
            "order": null,
            "overflow": null,
            "overflow_x": null,
            "overflow_y": null,
            "padding": null,
            "right": null,
            "top": null,
            "visibility": null,
            "width": null
          }
        },
        "0a4ceb873c64461fb7a2340028df3114": {
          "model_module": "@jupyter-widgets/base",
          "model_module_version": "1.2.0",
          "model_name": "LayoutModel",
          "state": {
            "_model_module": "@jupyter-widgets/base",
            "_model_module_version": "1.2.0",
            "_model_name": "LayoutModel",
            "_view_count": null,
            "_view_module": "@jupyter-widgets/base",
            "_view_module_version": "1.2.0",
            "_view_name": "LayoutView",
            "align_content": null,
            "align_items": null,
            "align_self": null,
            "border": null,
            "bottom": null,
            "display": null,
            "flex": null,
            "flex_flow": null,
            "grid_area": null,
            "grid_auto_columns": null,
            "grid_auto_flow": null,
            "grid_auto_rows": null,
            "grid_column": null,
            "grid_gap": null,
            "grid_row": null,
            "grid_template_areas": null,
            "grid_template_columns": null,
            "grid_template_rows": null,
            "height": null,
            "justify_content": null,
            "justify_items": null,
            "left": null,
            "margin": null,
            "max_height": null,
            "max_width": null,
            "min_height": null,
            "min_width": null,
            "object_fit": null,
            "object_position": null,
            "order": null,
            "overflow": null,
            "overflow_x": null,
            "overflow_y": null,
            "padding": null,
            "right": null,
            "top": null,
            "visibility": null,
            "width": null
          }
        },
        "0a855a5b2ab24a72a6b454d403898a94": {
          "model_module": "@jupyter-widgets/base",
          "model_module_version": "1.2.0",
          "model_name": "LayoutModel",
          "state": {
            "_model_module": "@jupyter-widgets/base",
            "_model_module_version": "1.2.0",
            "_model_name": "LayoutModel",
            "_view_count": null,
            "_view_module": "@jupyter-widgets/base",
            "_view_module_version": "1.2.0",
            "_view_name": "LayoutView",
            "align_content": null,
            "align_items": null,
            "align_self": null,
            "border": null,
            "bottom": null,
            "display": null,
            "flex": null,
            "flex_flow": null,
            "grid_area": null,
            "grid_auto_columns": null,
            "grid_auto_flow": null,
            "grid_auto_rows": null,
            "grid_column": null,
            "grid_gap": null,
            "grid_row": null,
            "grid_template_areas": null,
            "grid_template_columns": null,
            "grid_template_rows": null,
            "height": null,
            "justify_content": null,
            "justify_items": null,
            "left": null,
            "margin": null,
            "max_height": null,
            "max_width": null,
            "min_height": null,
            "min_width": null,
            "object_fit": null,
            "object_position": null,
            "order": null,
            "overflow": null,
            "overflow_x": null,
            "overflow_y": null,
            "padding": null,
            "right": null,
            "top": null,
            "visibility": null,
            "width": null
          }
        },
        "0b549a28189243fc9c481e541a097306": {
          "model_module": "@jupyter-widgets/controls",
          "model_module_version": "1.5.0",
          "model_name": "HBoxModel",
          "state": {
            "_dom_classes": [],
            "_model_module": "@jupyter-widgets/controls",
            "_model_module_version": "1.5.0",
            "_model_name": "HBoxModel",
            "_view_count": null,
            "_view_module": "@jupyter-widgets/controls",
            "_view_module_version": "1.5.0",
            "_view_name": "HBoxView",
            "box_style": "",
            "children": [
              "IPY_MODEL_7a9f6326340f4eb3bd14df7fcb0c7c97",
              "IPY_MODEL_6e098e81bc714f4087270dae294bb873",
              "IPY_MODEL_6f79ecf9b1664b15a1299e692ae27456"
            ],
            "layout": "IPY_MODEL_3973231bf7ac479d9a0f92e8c7fa3c1f"
          }
        },
        "1028fe98bd724a2e81b0bf84859e0a47": {
          "model_module": "@jupyter-widgets/controls",
          "model_module_version": "1.5.0",
          "model_name": "FloatProgressModel",
          "state": {
            "_dom_classes": [],
            "_model_module": "@jupyter-widgets/controls",
            "_model_module_version": "1.5.0",
            "_model_name": "FloatProgressModel",
            "_view_count": null,
            "_view_module": "@jupyter-widgets/controls",
            "_view_module_version": "1.5.0",
            "_view_name": "ProgressView",
            "bar_style": "success",
            "description": "",
            "description_tooltip": null,
            "layout": "IPY_MODEL_0a4ceb873c64461fb7a2340028df3114",
            "max": 25692,
            "min": 0,
            "orientation": "horizontal",
            "style": "IPY_MODEL_beb6c2932ff848e285730c752e6011fe",
            "value": 25692
          }
        },
        "15299d2843264a14835cca6dfba78d27": {
          "model_module": "@jupyter-widgets/controls",
          "model_module_version": "1.5.0",
          "model_name": "ProgressStyleModel",
          "state": {
            "_model_module": "@jupyter-widgets/controls",
            "_model_module_version": "1.5.0",
            "_model_name": "ProgressStyleModel",
            "_view_count": null,
            "_view_module": "@jupyter-widgets/base",
            "_view_module_version": "1.2.0",
            "_view_name": "StyleView",
            "bar_color": null,
            "description_width": ""
          }
        },
        "171538ffd38c45259a645c6d7a42fd68": {
          "model_module": "@jupyter-widgets/controls",
          "model_module_version": "1.5.0",
          "model_name": "HTMLModel",
          "state": {
            "_dom_classes": [],
            "_model_module": "@jupyter-widgets/controls",
            "_model_module_version": "1.5.0",
            "_model_name": "HTMLModel",
            "_view_count": null,
            "_view_module": "@jupyter-widgets/controls",
            "_view_module_version": "1.5.0",
            "_view_name": "HTMLView",
            "description": "",
            "description_tooltip": null,
            "layout": "IPY_MODEL_24b679fc3fa74c4a9089125363347b06",
            "placeholder": "​",
            "style": "IPY_MODEL_fd7c47f493c34b26a785f66691299c24",
            "value": "tokenizing val.bin (num_proc=2): 100%"
          }
        },
        "1a3d68b6836242ce9fc560f38a10a6e0": {
          "model_module": "@jupyter-widgets/controls",
          "model_module_version": "1.5.0",
          "model_name": "DescriptionStyleModel",
          "state": {
            "_model_module": "@jupyter-widgets/controls",
            "_model_module_version": "1.5.0",
            "_model_name": "DescriptionStyleModel",
            "_view_count": null,
            "_view_module": "@jupyter-widgets/base",
            "_view_module_version": "1.2.0",
            "_view_name": "StyleView",
            "description_width": ""
          }
        },
        "24b679fc3fa74c4a9089125363347b06": {
          "model_module": "@jupyter-widgets/base",
          "model_module_version": "1.2.0",
          "model_name": "LayoutModel",
          "state": {
            "_model_module": "@jupyter-widgets/base",
            "_model_module_version": "1.2.0",
            "_model_name": "LayoutModel",
            "_view_count": null,
            "_view_module": "@jupyter-widgets/base",
            "_view_module_version": "1.2.0",
            "_view_name": "LayoutView",
            "align_content": null,
            "align_items": null,
            "align_self": null,
            "border": null,
            "bottom": null,
            "display": null,
            "flex": null,
            "flex_flow": null,
            "grid_area": null,
            "grid_auto_columns": null,
            "grid_auto_flow": null,
            "grid_auto_rows": null,
            "grid_column": null,
            "grid_gap": null,
            "grid_row": null,
            "grid_template_areas": null,
            "grid_template_columns": null,
            "grid_template_rows": null,
            "height": null,
            "justify_content": null,
            "justify_items": null,
            "left": null,
            "margin": null,
            "max_height": null,
            "max_width": null,
            "min_height": null,
            "min_width": null,
            "object_fit": null,
            "object_position": null,
            "order": null,
            "overflow": null,
            "overflow_x": null,
            "overflow_y": null,
            "padding": null,
            "right": null,
            "top": null,
            "visibility": null,
            "width": null
          }
        },
        "25342b6da472477faac2347f19de264a": {
          "model_module": "@jupyter-widgets/base",
          "model_module_version": "1.2.0",
          "model_name": "LayoutModel",
          "state": {
            "_model_module": "@jupyter-widgets/base",
            "_model_module_version": "1.2.0",
            "_model_name": "LayoutModel",
            "_view_count": null,
            "_view_module": "@jupyter-widgets/base",
            "_view_module_version": "1.2.0",
            "_view_name": "LayoutView",
            "align_content": null,
            "align_items": null,
            "align_self": null,
            "border": null,
            "bottom": null,
            "display": null,
            "flex": null,
            "flex_flow": null,
            "grid_area": null,
            "grid_auto_columns": null,
            "grid_auto_flow": null,
            "grid_auto_rows": null,
            "grid_column": null,
            "grid_gap": null,
            "grid_row": null,
            "grid_template_areas": null,
            "grid_template_columns": null,
            "grid_template_rows": null,
            "height": null,
            "justify_content": null,
            "justify_items": null,
            "left": null,
            "margin": null,
            "max_height": null,
            "max_width": null,
            "min_height": null,
            "min_width": null,
            "object_fit": null,
            "object_position": null,
            "order": null,
            "overflow": null,
            "overflow_x": null,
            "overflow_y": null,
            "padding": null,
            "right": null,
            "top": null,
            "visibility": null,
            "width": null
          }
        },
        "2d79b2fe5c5c4237a63164dd6d5ad437": {
          "model_module": "@jupyter-widgets/controls",
          "model_module_version": "1.5.0",
          "model_name": "HTMLModel",
          "state": {
            "_dom_classes": [],
            "_model_module": "@jupyter-widgets/controls",
            "_model_module_version": "1.5.0",
            "_model_name": "HTMLModel",
            "_view_count": null,
            "_view_module": "@jupyter-widgets/controls",
            "_view_module_version": "1.5.0",
            "_view_name": "HTMLView",
            "description": "",
            "description_tooltip": null,
            "layout": "IPY_MODEL_3c635ea0782441868db7a7442e9ca6e1",
            "placeholder": "​",
            "style": "IPY_MODEL_1a3d68b6836242ce9fc560f38a10a6e0",
            "value": "tokenizing train.bin (num_proc=2): 100%"
          }
        },
        "2da45a07dc954e7cb63b5fc36142ff34": {
          "model_module": "@jupyter-widgets/base",
          "model_module_version": "1.2.0",
          "model_name": "LayoutModel",
          "state": {
            "_model_module": "@jupyter-widgets/base",
            "_model_module_version": "1.2.0",
            "_model_name": "LayoutModel",
            "_view_count": null,
            "_view_module": "@jupyter-widgets/base",
            "_view_module_version": "1.2.0",
            "_view_name": "LayoutView",
            "align_content": null,
            "align_items": null,
            "align_self": null,
            "border": null,
            "bottom": null,
            "display": null,
            "flex": null,
            "flex_flow": null,
            "grid_area": null,
            "grid_auto_columns": null,
            "grid_auto_flow": null,
            "grid_auto_rows": null,
            "grid_column": null,
            "grid_gap": null,
            "grid_row": null,
            "grid_template_areas": null,
            "grid_template_columns": null,
            "grid_template_rows": null,
            "height": null,
            "justify_content": null,
            "justify_items": null,
            "left": null,
            "margin": null,
            "max_height": null,
            "max_width": null,
            "min_height": null,
            "min_width": null,
            "object_fit": null,
            "object_position": null,
            "order": null,
            "overflow": null,
            "overflow_x": null,
            "overflow_y": null,
            "padding": null,
            "right": null,
            "top": null,
            "visibility": null,
            "width": null
          }
        },
        "30b507975e7f4d84bb95fec989422b8c": {
          "model_module": "@jupyter-widgets/controls",
          "model_module_version": "1.5.0",
          "model_name": "HTMLModel",
          "state": {
            "_dom_classes": [],
            "_model_module": "@jupyter-widgets/controls",
            "_model_module_version": "1.5.0",
            "_model_name": "HTMLModel",
            "_view_count": null,
            "_view_module": "@jupyter-widgets/controls",
            "_view_module_version": "1.5.0",
            "_view_name": "HTMLView",
            "description": "",
            "description_tooltip": null,
            "layout": "IPY_MODEL_50e3ee7ebb15420d96b4e0ddebec20d7",
            "placeholder": "​",
            "style": "IPY_MODEL_a77cb14d5cc94c0988e736189faa10d5",
            "value": "100%"
          }
        },
        "365690aee0ce4e93a0710641faa4e620": {
          "model_module": "@jupyter-widgets/controls",
          "model_module_version": "1.5.0",
          "model_name": "DescriptionStyleModel",
          "state": {
            "_model_module": "@jupyter-widgets/controls",
            "_model_module_version": "1.5.0",
            "_model_name": "DescriptionStyleModel",
            "_view_count": null,
            "_view_module": "@jupyter-widgets/base",
            "_view_module_version": "1.2.0",
            "_view_name": "StyleView",
            "description_width": ""
          }
        },
        "3899a0f7f4ed458888811e894ed69ce9": {
          "model_module": "@jupyter-widgets/base",
          "model_module_version": "1.2.0",
          "model_name": "LayoutModel",
          "state": {
            "_model_module": "@jupyter-widgets/base",
            "_model_module_version": "1.2.0",
            "_model_name": "LayoutModel",
            "_view_count": null,
            "_view_module": "@jupyter-widgets/base",
            "_view_module_version": "1.2.0",
            "_view_name": "LayoutView",
            "align_content": null,
            "align_items": null,
            "align_self": null,
            "border": null,
            "bottom": null,
            "display": null,
            "flex": null,
            "flex_flow": null,
            "grid_area": null,
            "grid_auto_columns": null,
            "grid_auto_flow": null,
            "grid_auto_rows": null,
            "grid_column": null,
            "grid_gap": null,
            "grid_row": null,
            "grid_template_areas": null,
            "grid_template_columns": null,
            "grid_template_rows": null,
            "height": null,
            "justify_content": null,
            "justify_items": null,
            "left": null,
            "margin": null,
            "max_height": null,
            "max_width": null,
            "min_height": null,
            "min_width": null,
            "object_fit": null,
            "object_position": null,
            "order": null,
            "overflow": null,
            "overflow_x": null,
            "overflow_y": null,
            "padding": null,
            "right": null,
            "top": null,
            "visibility": null,
            "width": null
          }
        },
        "3973231bf7ac479d9a0f92e8c7fa3c1f": {
          "model_module": "@jupyter-widgets/base",
          "model_module_version": "1.2.0",
          "model_name": "LayoutModel",
          "state": {
            "_model_module": "@jupyter-widgets/base",
            "_model_module_version": "1.2.0",
            "_model_name": "LayoutModel",
            "_view_count": null,
            "_view_module": "@jupyter-widgets/base",
            "_view_module_version": "1.2.0",
            "_view_name": "LayoutView",
            "align_content": null,
            "align_items": null,
            "align_self": null,
            "border": null,
            "bottom": null,
            "display": null,
            "flex": null,
            "flex_flow": null,
            "grid_area": null,
            "grid_auto_columns": null,
            "grid_auto_flow": null,
            "grid_auto_rows": null,
            "grid_column": null,
            "grid_gap": null,
            "grid_row": null,
            "grid_template_areas": null,
            "grid_template_columns": null,
            "grid_template_rows": null,
            "height": null,
            "justify_content": null,
            "justify_items": null,
            "left": null,
            "margin": null,
            "max_height": null,
            "max_width": null,
            "min_height": null,
            "min_width": null,
            "object_fit": null,
            "object_position": null,
            "order": null,
            "overflow": null,
            "overflow_x": null,
            "overflow_y": null,
            "padding": null,
            "right": null,
            "top": null,
            "visibility": null,
            "width": null
          }
        },
        "3c635ea0782441868db7a7442e9ca6e1": {
          "model_module": "@jupyter-widgets/base",
          "model_module_version": "1.2.0",
          "model_name": "LayoutModel",
          "state": {
            "_model_module": "@jupyter-widgets/base",
            "_model_module_version": "1.2.0",
            "_model_name": "LayoutModel",
            "_view_count": null,
            "_view_module": "@jupyter-widgets/base",
            "_view_module_version": "1.2.0",
            "_view_name": "LayoutView",
            "align_content": null,
            "align_items": null,
            "align_self": null,
            "border": null,
            "bottom": null,
            "display": null,
            "flex": null,
            "flex_flow": null,
            "grid_area": null,
            "grid_auto_columns": null,
            "grid_auto_flow": null,
            "grid_auto_rows": null,
            "grid_column": null,
            "grid_gap": null,
            "grid_row": null,
            "grid_template_areas": null,
            "grid_template_columns": null,
            "grid_template_rows": null,
            "height": null,
            "justify_content": null,
            "justify_items": null,
            "left": null,
            "margin": null,
            "max_height": null,
            "max_width": null,
            "min_height": null,
            "min_width": null,
            "object_fit": null,
            "object_position": null,
            "order": null,
            "overflow": null,
            "overflow_x": null,
            "overflow_y": null,
            "padding": null,
            "right": null,
            "top": null,
            "visibility": null,
            "width": null
          }
        },
        "3c740e2e3385457db4b17b55bbfbce23": {
          "model_module": "@jupyter-widgets/controls",
          "model_module_version": "1.5.0",
          "model_name": "ProgressStyleModel",
          "state": {
            "_model_module": "@jupyter-widgets/controls",
            "_model_module_version": "1.5.0",
            "_model_name": "ProgressStyleModel",
            "_view_count": null,
            "_view_module": "@jupyter-widgets/base",
            "_view_module_version": "1.2.0",
            "_view_name": "StyleView",
            "bar_color": null,
            "description_width": ""
          }
        },
        "47077c42462442b48cadba6d2bff1624": {
          "model_module": "@jupyter-widgets/controls",
          "model_module_version": "1.5.0",
          "model_name": "FloatProgressModel",
          "state": {
            "_dom_classes": [],
            "_model_module": "@jupyter-widgets/controls",
            "_model_module_version": "1.5.0",
            "_model_name": "FloatProgressModel",
            "_view_count": null,
            "_view_module": "@jupyter-widgets/controls",
            "_view_module_version": "1.5.0",
            "_view_name": "ProgressView",
            "bar_style": "success",
            "description": "",
            "description_tooltip": null,
            "layout": "IPY_MODEL_4e5540a6a1894d6d970bbd93148d7baa",
            "max": 4000,
            "min": 0,
            "orientation": "horizontal",
            "style": "IPY_MODEL_e25ea4b75eb0475c853d832431c57f50",
            "value": 4000
          }
        },
        "4e5540a6a1894d6d970bbd93148d7baa": {
          "model_module": "@jupyter-widgets/base",
          "model_module_version": "1.2.0",
          "model_name": "LayoutModel",
          "state": {
            "_model_module": "@jupyter-widgets/base",
            "_model_module_version": "1.2.0",
            "_model_name": "LayoutModel",
            "_view_count": null,
            "_view_module": "@jupyter-widgets/base",
            "_view_module_version": "1.2.0",
            "_view_name": "LayoutView",
            "align_content": null,
            "align_items": null,
            "align_self": null,
            "border": null,
            "bottom": null,
            "display": null,
            "flex": null,
            "flex_flow": null,
            "grid_area": null,
            "grid_auto_columns": null,
            "grid_auto_flow": null,
            "grid_auto_rows": null,
            "grid_column": null,
            "grid_gap": null,
            "grid_row": null,
            "grid_template_areas": null,
            "grid_template_columns": null,
            "grid_template_rows": null,
            "height": null,
            "justify_content": null,
            "justify_items": null,
            "left": null,
            "margin": null,
            "max_height": null,
            "max_width": null,
            "min_height": null,
            "min_width": null,
            "object_fit": null,
            "object_position": null,
            "order": null,
            "overflow": null,
            "overflow_x": null,
            "overflow_y": null,
            "padding": null,
            "right": null,
            "top": null,
            "visibility": null,
            "width": null
          }
        },
        "50e3ee7ebb15420d96b4e0ddebec20d7": {
          "model_module": "@jupyter-widgets/base",
          "model_module_version": "1.2.0",
          "model_name": "LayoutModel",
          "state": {
            "_model_module": "@jupyter-widgets/base",
            "_model_module_version": "1.2.0",
            "_model_name": "LayoutModel",
            "_view_count": null,
            "_view_module": "@jupyter-widgets/base",
            "_view_module_version": "1.2.0",
            "_view_name": "LayoutView",
            "align_content": null,
            "align_items": null,
            "align_self": null,
            "border": null,
            "bottom": null,
            "display": null,
            "flex": null,
            "flex_flow": null,
            "grid_area": null,
            "grid_auto_columns": null,
            "grid_auto_flow": null,
            "grid_auto_rows": null,
            "grid_column": null,
            "grid_gap": null,
            "grid_row": null,
            "grid_template_areas": null,
            "grid_template_columns": null,
            "grid_template_rows": null,
            "height": null,
            "justify_content": null,
            "justify_items": null,
            "left": null,
            "margin": null,
            "max_height": null,
            "max_width": null,
            "min_height": null,
            "min_width": null,
            "object_fit": null,
            "object_position": null,
            "order": null,
            "overflow": null,
            "overflow_x": null,
            "overflow_y": null,
            "padding": null,
            "right": null,
            "top": null,
            "visibility": null,
            "width": null
          }
        },
        "558067002c814adaafd7d0042097ac6e": {
          "model_module": "@jupyter-widgets/base",
          "model_module_version": "1.2.0",
          "model_name": "LayoutModel",
          "state": {
            "_model_module": "@jupyter-widgets/base",
            "_model_module_version": "1.2.0",
            "_model_name": "LayoutModel",
            "_view_count": null,
            "_view_module": "@jupyter-widgets/base",
            "_view_module_version": "1.2.0",
            "_view_name": "LayoutView",
            "align_content": null,
            "align_items": null,
            "align_self": null,
            "border": null,
            "bottom": null,
            "display": null,
            "flex": null,
            "flex_flow": null,
            "grid_area": null,
            "grid_auto_columns": null,
            "grid_auto_flow": null,
            "grid_auto_rows": null,
            "grid_column": null,
            "grid_gap": null,
            "grid_row": null,
            "grid_template_areas": null,
            "grid_template_columns": null,
            "grid_template_rows": null,
            "height": null,
            "justify_content": null,
            "justify_items": null,
            "left": null,
            "margin": null,
            "max_height": null,
            "max_width": null,
            "min_height": null,
            "min_width": null,
            "object_fit": null,
            "object_position": null,
            "order": null,
            "overflow": null,
            "overflow_x": null,
            "overflow_y": null,
            "padding": null,
            "right": null,
            "top": null,
            "visibility": null,
            "width": null
          }
        },
        "5955c7f5761d4d83adf0600c5fd0dec0": {
          "model_module": "@jupyter-widgets/controls",
          "model_module_version": "1.5.0",
          "model_name": "DescriptionStyleModel",
          "state": {
            "_model_module": "@jupyter-widgets/controls",
            "_model_module_version": "1.5.0",
            "_model_name": "DescriptionStyleModel",
            "_view_count": null,
            "_view_module": "@jupyter-widgets/base",
            "_view_module_version": "1.2.0",
            "_view_name": "StyleView",
            "description_width": ""
          }
        },
        "6969d518c93c46a5ae7b68159a20cf79": {
          "model_module": "@jupyter-widgets/controls",
          "model_module_version": "1.5.0",
          "model_name": "HTMLModel",
          "state": {
            "_dom_classes": [],
            "_model_module": "@jupyter-widgets/controls",
            "_model_module_version": "1.5.0",
            "_model_name": "HTMLModel",
            "_view_count": null,
            "_view_module": "@jupyter-widgets/controls",
            "_view_module_version": "1.5.0",
            "_view_name": "HTMLView",
            "description": "",
            "description_tooltip": null,
            "layout": "IPY_MODEL_92f773cd5ec04305a31b402066f3084f",
            "placeholder": "​",
            "style": "IPY_MODEL_b0bbaec6a2214784aa84b0120c4e0806",
            "value": " 5000/5000 [00:01&lt;00:00, 4167.96 examples/s]"
          }
        },
        "6a2422739d314009aeedf0b42798050f": {
          "model_module": "@jupyter-widgets/controls",
          "model_module_version": "1.5.0",
          "model_name": "ProgressStyleModel",
          "state": {
            "_model_module": "@jupyter-widgets/controls",
            "_model_module_version": "1.5.0",
            "_model_name": "ProgressStyleModel",
            "_view_count": null,
            "_view_module": "@jupyter-widgets/base",
            "_view_module_version": "1.2.0",
            "_view_name": "StyleView",
            "bar_color": null,
            "description_width": ""
          }
        },
        "6d4595658d5d46808bc00a2451e0a734": {
          "model_module": "@jupyter-widgets/base",
          "model_module_version": "1.2.0",
          "model_name": "LayoutModel",
          "state": {
            "_model_module": "@jupyter-widgets/base",
            "_model_module_version": "1.2.0",
            "_model_name": "LayoutModel",
            "_view_count": null,
            "_view_module": "@jupyter-widgets/base",
            "_view_module_version": "1.2.0",
            "_view_name": "LayoutView",
            "align_content": null,
            "align_items": null,
            "align_self": null,
            "border": null,
            "bottom": null,
            "display": null,
            "flex": null,
            "flex_flow": null,
            "grid_area": null,
            "grid_auto_columns": null,
            "grid_auto_flow": null,
            "grid_auto_rows": null,
            "grid_column": null,
            "grid_gap": null,
            "grid_row": null,
            "grid_template_areas": null,
            "grid_template_columns": null,
            "grid_template_rows": null,
            "height": null,
            "justify_content": null,
            "justify_items": null,
            "left": null,
            "margin": null,
            "max_height": null,
            "max_width": null,
            "min_height": null,
            "min_width": null,
            "object_fit": null,
            "object_position": null,
            "order": null,
            "overflow": null,
            "overflow_x": null,
            "overflow_y": null,
            "padding": null,
            "right": null,
            "top": null,
            "visibility": null,
            "width": null
          }
        },
        "6e098e81bc714f4087270dae294bb873": {
          "model_module": "@jupyter-widgets/controls",
          "model_module_version": "1.5.0",
          "model_name": "FloatProgressModel",
          "state": {
            "_dom_classes": [],
            "_model_module": "@jupyter-widgets/controls",
            "_model_module_version": "1.5.0",
            "_model_name": "FloatProgressModel",
            "_view_count": null,
            "_view_module": "@jupyter-widgets/controls",
            "_view_module_version": "1.5.0",
            "_view_name": "ProgressView",
            "bar_style": "success",
            "description": "",
            "description_tooltip": null,
            "layout": "IPY_MODEL_25342b6da472477faac2347f19de264a",
            "max": 231224,
            "min": 0,
            "orientation": "horizontal",
            "style": "IPY_MODEL_decfa4dc113e4ce5ba15509bf79b883b",
            "value": 231224
          }
        },
        "6f79ecf9b1664b15a1299e692ae27456": {
          "model_module": "@jupyter-widgets/controls",
          "model_module_version": "1.5.0",
          "model_name": "HTMLModel",
          "state": {
            "_dom_classes": [],
            "_model_module": "@jupyter-widgets/controls",
            "_model_module_version": "1.5.0",
            "_model_name": "HTMLModel",
            "_view_count": null,
            "_view_module": "@jupyter-widgets/controls",
            "_view_module_version": "1.5.0",
            "_view_name": "HTMLView",
            "description": "",
            "description_tooltip": null,
            "layout": "IPY_MODEL_fbc90501c746468b8a4bae65408729fe",
            "placeholder": "​",
            "style": "IPY_MODEL_f3933fa29e3144f5a1db06eaae73d15d",
            "value": " 231224/231224 [01:05&lt;00:00, 3017.21 examples/s]"
          }
        },
        "7a7b74aeec894c7ab35304505cf3c9a6": {
          "model_module": "@jupyter-widgets/base",
          "model_module_version": "1.2.0",
          "model_name": "LayoutModel",
          "state": {
            "_model_module": "@jupyter-widgets/base",
            "_model_module_version": "1.2.0",
            "_model_name": "LayoutModel",
            "_view_count": null,
            "_view_module": "@jupyter-widgets/base",
            "_view_module_version": "1.2.0",
            "_view_name": "LayoutView",
            "align_content": null,
            "align_items": null,
            "align_self": null,
            "border": null,
            "bottom": null,
            "display": null,
            "flex": null,
            "flex_flow": null,
            "grid_area": null,
            "grid_auto_columns": null,
            "grid_auto_flow": null,
            "grid_auto_rows": null,
            "grid_column": null,
            "grid_gap": null,
            "grid_row": null,
            "grid_template_areas": null,
            "grid_template_columns": null,
            "grid_template_rows": null,
            "height": null,
            "justify_content": null,
            "justify_items": null,
            "left": null,
            "margin": null,
            "max_height": null,
            "max_width": null,
            "min_height": null,
            "min_width": null,
            "object_fit": null,
            "object_position": null,
            "order": null,
            "overflow": null,
            "overflow_x": null,
            "overflow_y": null,
            "padding": null,
            "right": null,
            "top": null,
            "visibility": null,
            "width": null
          }
        },
        "7a9f6326340f4eb3bd14df7fcb0c7c97": {
          "model_module": "@jupyter-widgets/controls",
          "model_module_version": "1.5.0",
          "model_name": "HTMLModel",
          "state": {
            "_dom_classes": [],
            "_model_module": "@jupyter-widgets/controls",
            "_model_module_version": "1.5.0",
            "_model_name": "HTMLModel",
            "_view_count": null,
            "_view_module": "@jupyter-widgets/controls",
            "_view_module_version": "1.5.0",
            "_view_name": "HTMLView",
            "description": "",
            "description_tooltip": null,
            "layout": "IPY_MODEL_eda0946a7a334118a529b88210c8c4d0",
            "placeholder": "​",
            "style": "IPY_MODEL_fd107cf7607245a2b05d0a621f57d880",
            "value": "Tokenizing train set (num_proc=8): 100%"
          }
        },
        "7d5c7570a7b34829bd498806e705cfac": {
          "model_module": "@jupyter-widgets/base",
          "model_module_version": "1.2.0",
          "model_name": "LayoutModel",
          "state": {
            "_model_module": "@jupyter-widgets/base",
            "_model_module_version": "1.2.0",
            "_model_name": "LayoutModel",
            "_view_count": null,
            "_view_module": "@jupyter-widgets/base",
            "_view_module_version": "1.2.0",
            "_view_name": "LayoutView",
            "align_content": null,
            "align_items": null,
            "align_self": null,
            "border": null,
            "bottom": null,
            "display": null,
            "flex": null,
            "flex_flow": null,
            "grid_area": null,
            "grid_auto_columns": null,
            "grid_auto_flow": null,
            "grid_auto_rows": null,
            "grid_column": null,
            "grid_gap": null,
            "grid_row": null,
            "grid_template_areas": null,
            "grid_template_columns": null,
            "grid_template_rows": null,
            "height": null,
            "justify_content": null,
            "justify_items": null,
            "left": null,
            "margin": null,
            "max_height": null,
            "max_width": null,
            "min_height": null,
            "min_width": null,
            "object_fit": null,
            "object_position": null,
            "order": null,
            "overflow": null,
            "overflow_x": null,
            "overflow_y": null,
            "padding": null,
            "right": null,
            "top": null,
            "visibility": null,
            "width": null
          }
        },
        "8a1458cbfdf4413d8c4c736c4a2f5d66": {
          "model_module": "@jupyter-widgets/base",
          "model_module_version": "1.2.0",
          "model_name": "LayoutModel",
          "state": {
            "_model_module": "@jupyter-widgets/base",
            "_model_module_version": "1.2.0",
            "_model_name": "LayoutModel",
            "_view_count": null,
            "_view_module": "@jupyter-widgets/base",
            "_view_module_version": "1.2.0",
            "_view_name": "LayoutView",
            "align_content": null,
            "align_items": null,
            "align_self": null,
            "border": null,
            "bottom": null,
            "display": null,
            "flex": null,
            "flex_flow": null,
            "grid_area": null,
            "grid_auto_columns": null,
            "grid_auto_flow": null,
            "grid_auto_rows": null,
            "grid_column": null,
            "grid_gap": null,
            "grid_row": null,
            "grid_template_areas": null,
            "grid_template_columns": null,
            "grid_template_rows": null,
            "height": null,
            "justify_content": null,
            "justify_items": null,
            "left": null,
            "margin": null,
            "max_height": null,
            "max_width": null,
            "min_height": null,
            "min_width": null,
            "object_fit": null,
            "object_position": null,
            "order": null,
            "overflow": null,
            "overflow_x": null,
            "overflow_y": null,
            "padding": null,
            "right": null,
            "top": null,
            "visibility": null,
            "width": null
          }
        },
        "8cbf901fd67a452d91492d60832e22d6": {
          "model_module": "@jupyter-widgets/controls",
          "model_module_version": "1.5.0",
          "model_name": "HBoxModel",
          "state": {
            "_dom_classes": [],
            "_model_module": "@jupyter-widgets/controls",
            "_model_module_version": "1.5.0",
            "_model_name": "HBoxModel",
            "_view_count": null,
            "_view_module": "@jupyter-widgets/controls",
            "_view_module_version": "1.5.0",
            "_view_name": "HBoxView",
            "box_style": "",
            "children": [
              "IPY_MODEL_c8b9d3708568430aab32363561bdbb6d",
              "IPY_MODEL_02ba740852194cbdbb1389e1454d9e68",
              "IPY_MODEL_b32c981ede81471188087964e5fa383d"
            ],
            "layout": "IPY_MODEL_3899a0f7f4ed458888811e894ed69ce9"
          }
        },
        "8d2ede835cda4288be8bc9cfb378cbbe": {
          "model_module": "@jupyter-widgets/controls",
          "model_module_version": "1.5.0",
          "model_name": "HBoxModel",
          "state": {
            "_dom_classes": [],
            "_model_module": "@jupyter-widgets/controls",
            "_model_module_version": "1.5.0",
            "_model_name": "HBoxModel",
            "_view_count": null,
            "_view_module": "@jupyter-widgets/controls",
            "_view_module_version": "1.5.0",
            "_view_name": "HBoxView",
            "box_style": "",
            "children": [
              "IPY_MODEL_171538ffd38c45259a645c6d7a42fd68",
              "IPY_MODEL_d791bd2158f140feb373d610a11ddafe",
              "IPY_MODEL_e29ed255d1ce46cbb6ff699f695824db"
            ],
            "layout": "IPY_MODEL_558067002c814adaafd7d0042097ac6e"
          }
        },
        "92f773cd5ec04305a31b402066f3084f": {
          "model_module": "@jupyter-widgets/base",
          "model_module_version": "1.2.0",
          "model_name": "LayoutModel",
          "state": {
            "_model_module": "@jupyter-widgets/base",
            "_model_module_version": "1.2.0",
            "_model_name": "LayoutModel",
            "_view_count": null,
            "_view_module": "@jupyter-widgets/base",
            "_view_module_version": "1.2.0",
            "_view_name": "LayoutView",
            "align_content": null,
            "align_items": null,
            "align_self": null,
            "border": null,
            "bottom": null,
            "display": null,
            "flex": null,
            "flex_flow": null,
            "grid_area": null,
            "grid_auto_columns": null,
            "grid_auto_flow": null,
            "grid_auto_rows": null,
            "grid_column": null,
            "grid_gap": null,
            "grid_row": null,
            "grid_template_areas": null,
            "grid_template_columns": null,
            "grid_template_rows": null,
            "height": null,
            "justify_content": null,
            "justify_items": null,
            "left": null,
            "margin": null,
            "max_height": null,
            "max_width": null,
            "min_height": null,
            "min_width": null,
            "object_fit": null,
            "object_position": null,
            "order": null,
            "overflow": null,
            "overflow_x": null,
            "overflow_y": null,
            "padding": null,
            "right": null,
            "top": null,
            "visibility": null,
            "width": null
          }
        },
        "9815b1473e48478b997e458567c3f139": {
          "model_module": "@jupyter-widgets/controls",
          "model_module_version": "1.5.0",
          "model_name": "DescriptionStyleModel",
          "state": {
            "_model_module": "@jupyter-widgets/controls",
            "_model_module_version": "1.5.0",
            "_model_name": "DescriptionStyleModel",
            "_view_count": null,
            "_view_module": "@jupyter-widgets/base",
            "_view_module_version": "1.2.0",
            "_view_name": "StyleView",
            "description_width": ""
          }
        },
        "98eddcdd33574624b6c718aa58c1bdab": {
          "model_module": "@jupyter-widgets/base",
          "model_module_version": "1.2.0",
          "model_name": "LayoutModel",
          "state": {
            "_model_module": "@jupyter-widgets/base",
            "_model_module_version": "1.2.0",
            "_model_name": "LayoutModel",
            "_view_count": null,
            "_view_module": "@jupyter-widgets/base",
            "_view_module_version": "1.2.0",
            "_view_name": "LayoutView",
            "align_content": null,
            "align_items": null,
            "align_self": null,
            "border": null,
            "bottom": null,
            "display": null,
            "flex": null,
            "flex_flow": null,
            "grid_area": null,
            "grid_auto_columns": null,
            "grid_auto_flow": null,
            "grid_auto_rows": null,
            "grid_column": null,
            "grid_gap": null,
            "grid_row": null,
            "grid_template_areas": null,
            "grid_template_columns": null,
            "grid_template_rows": null,
            "height": null,
            "justify_content": null,
            "justify_items": null,
            "left": null,
            "margin": null,
            "max_height": null,
            "max_width": null,
            "min_height": null,
            "min_width": null,
            "object_fit": null,
            "object_position": null,
            "order": null,
            "overflow": null,
            "overflow_x": null,
            "overflow_y": null,
            "padding": null,
            "right": null,
            "top": null,
            "visibility": null,
            "width": null
          }
        },
        "a22357a1c24e44a2a432d2dc1a108627": {
          "model_module": "@jupyter-widgets/controls",
          "model_module_version": "1.5.0",
          "model_name": "HBoxModel",
          "state": {
            "_dom_classes": [],
            "_model_module": "@jupyter-widgets/controls",
            "_model_module_version": "1.5.0",
            "_model_name": "HBoxModel",
            "_view_count": null,
            "_view_module": "@jupyter-widgets/controls",
            "_view_module_version": "1.5.0",
            "_view_name": "HBoxView",
            "box_style": "",
            "children": [
              "IPY_MODEL_30b507975e7f4d84bb95fec989422b8c",
              "IPY_MODEL_47077c42462442b48cadba6d2bff1624",
              "IPY_MODEL_d96c2602524744dba5931fadf7175260"
            ],
            "layout": "IPY_MODEL_8a1458cbfdf4413d8c4c736c4a2f5d66"
          }
        },
        "a49ffa789b9947ea9603134f3ff70a44": {
          "model_module": "@jupyter-widgets/base",
          "model_module_version": "1.2.0",
          "model_name": "LayoutModel",
          "state": {
            "_model_module": "@jupyter-widgets/base",
            "_model_module_version": "1.2.0",
            "_model_name": "LayoutModel",
            "_view_count": null,
            "_view_module": "@jupyter-widgets/base",
            "_view_module_version": "1.2.0",
            "_view_name": "LayoutView",
            "align_content": null,
            "align_items": null,
            "align_self": null,
            "border": null,
            "bottom": null,
            "display": null,
            "flex": null,
            "flex_flow": null,
            "grid_area": null,
            "grid_auto_columns": null,
            "grid_auto_flow": null,
            "grid_auto_rows": null,
            "grid_column": null,
            "grid_gap": null,
            "grid_row": null,
            "grid_template_areas": null,
            "grid_template_columns": null,
            "grid_template_rows": null,
            "height": null,
            "justify_content": null,
            "justify_items": null,
            "left": null,
            "margin": null,
            "max_height": null,
            "max_width": null,
            "min_height": null,
            "min_width": null,
            "object_fit": null,
            "object_position": null,
            "order": null,
            "overflow": null,
            "overflow_x": null,
            "overflow_y": null,
            "padding": null,
            "right": null,
            "top": null,
            "visibility": null,
            "width": null
          }
        },
        "a77cb14d5cc94c0988e736189faa10d5": {
          "model_module": "@jupyter-widgets/controls",
          "model_module_version": "1.5.0",
          "model_name": "DescriptionStyleModel",
          "state": {
            "_model_module": "@jupyter-widgets/controls",
            "_model_module_version": "1.5.0",
            "_model_name": "DescriptionStyleModel",
            "_view_count": null,
            "_view_module": "@jupyter-widgets/base",
            "_view_module_version": "1.2.0",
            "_view_name": "StyleView",
            "description_width": ""
          }
        },
        "abfda9307f114740b82576e1225eac41": {
          "model_module": "@jupyter-widgets/controls",
          "model_module_version": "1.5.0",
          "model_name": "HTMLModel",
          "state": {
            "_dom_classes": [],
            "_model_module": "@jupyter-widgets/controls",
            "_model_module_version": "1.5.0",
            "_model_name": "HTMLModel",
            "_view_count": null,
            "_view_module": "@jupyter-widgets/controls",
            "_view_module_version": "1.5.0",
            "_view_name": "HTMLView",
            "description": "",
            "description_tooltip": null,
            "layout": "IPY_MODEL_dc4b739f48f24960a4eeaae0b7d43338",
            "placeholder": "​",
            "style": "IPY_MODEL_e18b87ed31fd4ba39e0fbc88ca323122",
            "value": " 25692/25692 [00:07&lt;00:00, 2175.42 examples/s]"
          }
        },
        "ad2b3349ed7d4dba8d3c1bbcc048a934": {
          "model_module": "@jupyter-widgets/controls",
          "model_module_version": "1.5.0",
          "model_name": "HBoxModel",
          "state": {
            "_dom_classes": [],
            "_model_module": "@jupyter-widgets/controls",
            "_model_module_version": "1.5.0",
            "_model_name": "HBoxModel",
            "_view_count": null,
            "_view_module": "@jupyter-widgets/controls",
            "_view_module_version": "1.5.0",
            "_view_name": "HBoxView",
            "box_style": "",
            "children": [
              "IPY_MODEL_2d79b2fe5c5c4237a63164dd6d5ad437",
              "IPY_MODEL_dc0e905531ed4e888731dd6042bb3809",
              "IPY_MODEL_6969d518c93c46a5ae7b68159a20cf79"
            ],
            "layout": "IPY_MODEL_7d5c7570a7b34829bd498806e705cfac"
          }
        },
        "b0bbaec6a2214784aa84b0120c4e0806": {
          "model_module": "@jupyter-widgets/controls",
          "model_module_version": "1.5.0",
          "model_name": "DescriptionStyleModel",
          "state": {
            "_model_module": "@jupyter-widgets/controls",
            "_model_module_version": "1.5.0",
            "_model_name": "DescriptionStyleModel",
            "_view_count": null,
            "_view_module": "@jupyter-widgets/base",
            "_view_module_version": "1.2.0",
            "_view_name": "StyleView",
            "description_width": ""
          }
        },
        "b32c981ede81471188087964e5fa383d": {
          "model_module": "@jupyter-widgets/controls",
          "model_module_version": "1.5.0",
          "model_name": "HTMLModel",
          "state": {
            "_dom_classes": [],
            "_model_module": "@jupyter-widgets/controls",
            "_model_module_version": "1.5.0",
            "_model_name": "HTMLModel",
            "_view_count": null,
            "_view_module": "@jupyter-widgets/controls",
            "_view_module_version": "1.5.0",
            "_view_name": "HTMLView",
            "description": "",
            "description_tooltip": null,
            "layout": "IPY_MODEL_6d4595658d5d46808bc00a2451e0a734",
            "placeholder": "​",
            "style": "IPY_MODEL_f45b47ad0bef4c9fb1c0333aba974ec7",
            "value": " 0/5000 [00:00&lt;?, ? examples/s]"
          }
        },
        "ba75f95606254d1cb73405d14e9f0151": {
          "model_module": "@jupyter-widgets/controls",
          "model_module_version": "1.5.0",
          "model_name": "HTMLModel",
          "state": {
            "_dom_classes": [],
            "_model_module": "@jupyter-widgets/controls",
            "_model_module_version": "1.5.0",
            "_model_name": "HTMLModel",
            "_view_count": null,
            "_view_module": "@jupyter-widgets/controls",
            "_view_module_version": "1.5.0",
            "_view_name": "HTMLView",
            "description": "",
            "description_tooltip": null,
            "layout": "IPY_MODEL_7a7b74aeec894c7ab35304505cf3c9a6",
            "placeholder": "​",
            "style": "IPY_MODEL_d2b1b5e7f3164154956715519628ac76",
            "value": "Tokenizing val set (num_proc=8): 100%"
          }
        },
        "beb6c2932ff848e285730c752e6011fe": {
          "model_module": "@jupyter-widgets/controls",
          "model_module_version": "1.5.0",
          "model_name": "ProgressStyleModel",
          "state": {
            "_model_module": "@jupyter-widgets/controls",
            "_model_module_version": "1.5.0",
            "_model_name": "ProgressStyleModel",
            "_view_count": null,
            "_view_module": "@jupyter-widgets/base",
            "_view_module_version": "1.2.0",
            "_view_name": "StyleView",
            "bar_color": null,
            "description_width": ""
          }
        },
        "c8b9d3708568430aab32363561bdbb6d": {
          "model_module": "@jupyter-widgets/controls",
          "model_module_version": "1.5.0",
          "model_name": "HTMLModel",
          "state": {
            "_dom_classes": [],
            "_model_module": "@jupyter-widgets/controls",
            "_model_module_version": "1.5.0",
            "_model_name": "HTMLModel",
            "_view_count": null,
            "_view_module": "@jupyter-widgets/controls",
            "_view_module_version": "1.5.0",
            "_view_name": "HTMLView",
            "description": "",
            "description_tooltip": null,
            "layout": "IPY_MODEL_0305f5320d0640de87e1e6a6e957862b",
            "placeholder": "​",
            "style": "IPY_MODEL_365690aee0ce4e93a0710641faa4e620",
            "value": "tokenizing the splits (num_proc=8):   0%"
          }
        },
        "d2b1b5e7f3164154956715519628ac76": {
          "model_module": "@jupyter-widgets/controls",
          "model_module_version": "1.5.0",
          "model_name": "DescriptionStyleModel",
          "state": {
            "_model_module": "@jupyter-widgets/controls",
            "_model_module_version": "1.5.0",
            "_model_name": "DescriptionStyleModel",
            "_view_count": null,
            "_view_module": "@jupyter-widgets/base",
            "_view_module_version": "1.2.0",
            "_view_name": "StyleView",
            "description_width": ""
          }
        },
        "d791bd2158f140feb373d610a11ddafe": {
          "model_module": "@jupyter-widgets/controls",
          "model_module_version": "1.5.0",
          "model_name": "FloatProgressModel",
          "state": {
            "_dom_classes": [],
            "_model_module": "@jupyter-widgets/controls",
            "_model_module_version": "1.5.0",
            "_model_name": "FloatProgressModel",
            "_view_count": null,
            "_view_module": "@jupyter-widgets/controls",
            "_view_module_version": "1.5.0",
            "_view_name": "ProgressView",
            "bar_style": "success",
            "description": "",
            "description_tooltip": null,
            "layout": "IPY_MODEL_2da45a07dc954e7cb63b5fc36142ff34",
            "max": 1000,
            "min": 0,
            "orientation": "horizontal",
            "style": "IPY_MODEL_15299d2843264a14835cca6dfba78d27",
            "value": 1000
          }
        },
        "d96c2602524744dba5931fadf7175260": {
          "model_module": "@jupyter-widgets/controls",
          "model_module_version": "1.5.0",
          "model_name": "HTMLModel",
          "state": {
            "_dom_classes": [],
            "_model_module": "@jupyter-widgets/controls",
            "_model_module_version": "1.5.0",
            "_model_name": "HTMLModel",
            "_view_count": null,
            "_view_module": "@jupyter-widgets/controls",
            "_view_module_version": "1.5.0",
            "_view_name": "HTMLView",
            "description": "",
            "description_tooltip": null,
            "layout": "IPY_MODEL_98eddcdd33574624b6c718aa58c1bdab",
            "placeholder": "​",
            "style": "IPY_MODEL_9815b1473e48478b997e458567c3f139",
            "value": " 4000/4000 [47:01&lt;00:00,  2.12it/s]"
          }
        },
        "dc0e905531ed4e888731dd6042bb3809": {
          "model_module": "@jupyter-widgets/controls",
          "model_module_version": "1.5.0",
          "model_name": "FloatProgressModel",
          "state": {
            "_dom_classes": [],
            "_model_module": "@jupyter-widgets/controls",
            "_model_module_version": "1.5.0",
            "_model_name": "FloatProgressModel",
            "_view_count": null,
            "_view_module": "@jupyter-widgets/controls",
            "_view_module_version": "1.5.0",
            "_view_name": "ProgressView",
            "bar_style": "success",
            "description": "",
            "description_tooltip": null,
            "layout": "IPY_MODEL_a49ffa789b9947ea9603134f3ff70a44",
            "max": 5000,
            "min": 0,
            "orientation": "horizontal",
            "style": "IPY_MODEL_6a2422739d314009aeedf0b42798050f",
            "value": 5000
          }
        },
        "dc4b739f48f24960a4eeaae0b7d43338": {
          "model_module": "@jupyter-widgets/base",
          "model_module_version": "1.2.0",
          "model_name": "LayoutModel",
          "state": {
            "_model_module": "@jupyter-widgets/base",
            "_model_module_version": "1.2.0",
            "_model_name": "LayoutModel",
            "_view_count": null,
            "_view_module": "@jupyter-widgets/base",
            "_view_module_version": "1.2.0",
            "_view_name": "LayoutView",
            "align_content": null,
            "align_items": null,
            "align_self": null,
            "border": null,
            "bottom": null,
            "display": null,
            "flex": null,
            "flex_flow": null,
            "grid_area": null,
            "grid_auto_columns": null,
            "grid_auto_flow": null,
            "grid_auto_rows": null,
            "grid_column": null,
            "grid_gap": null,
            "grid_row": null,
            "grid_template_areas": null,
            "grid_template_columns": null,
            "grid_template_rows": null,
            "height": null,
            "justify_content": null,
            "justify_items": null,
            "left": null,
            "margin": null,
            "max_height": null,
            "max_width": null,
            "min_height": null,
            "min_width": null,
            "object_fit": null,
            "object_position": null,
            "order": null,
            "overflow": null,
            "overflow_x": null,
            "overflow_y": null,
            "padding": null,
            "right": null,
            "top": null,
            "visibility": null,
            "width": null
          }
        },
        "decfa4dc113e4ce5ba15509bf79b883b": {
          "model_module": "@jupyter-widgets/controls",
          "model_module_version": "1.5.0",
          "model_name": "ProgressStyleModel",
          "state": {
            "_model_module": "@jupyter-widgets/controls",
            "_model_module_version": "1.5.0",
            "_model_name": "ProgressStyleModel",
            "_view_count": null,
            "_view_module": "@jupyter-widgets/base",
            "_view_module_version": "1.2.0",
            "_view_name": "StyleView",
            "bar_color": null,
            "description_width": ""
          }
        },
        "df60b41d26be423c89dde88fc9bddcbd": {
          "model_module": "@jupyter-widgets/base",
          "model_module_version": "1.2.0",
          "model_name": "LayoutModel",
          "state": {
            "_model_module": "@jupyter-widgets/base",
            "_model_module_version": "1.2.0",
            "_model_name": "LayoutModel",
            "_view_count": null,
            "_view_module": "@jupyter-widgets/base",
            "_view_module_version": "1.2.0",
            "_view_name": "LayoutView",
            "align_content": null,
            "align_items": null,
            "align_self": null,
            "border": null,
            "bottom": null,
            "display": null,
            "flex": null,
            "flex_flow": null,
            "grid_area": null,
            "grid_auto_columns": null,
            "grid_auto_flow": null,
            "grid_auto_rows": null,
            "grid_column": null,
            "grid_gap": null,
            "grid_row": null,
            "grid_template_areas": null,
            "grid_template_columns": null,
            "grid_template_rows": null,
            "height": null,
            "justify_content": null,
            "justify_items": null,
            "left": null,
            "margin": null,
            "max_height": null,
            "max_width": null,
            "min_height": null,
            "min_width": null,
            "object_fit": null,
            "object_position": null,
            "order": null,
            "overflow": null,
            "overflow_x": null,
            "overflow_y": null,
            "padding": null,
            "right": null,
            "top": null,
            "visibility": null,
            "width": null
          }
        },
        "e18b87ed31fd4ba39e0fbc88ca323122": {
          "model_module": "@jupyter-widgets/controls",
          "model_module_version": "1.5.0",
          "model_name": "DescriptionStyleModel",
          "state": {
            "_model_module": "@jupyter-widgets/controls",
            "_model_module_version": "1.5.0",
            "_model_name": "DescriptionStyleModel",
            "_view_count": null,
            "_view_module": "@jupyter-widgets/base",
            "_view_module_version": "1.2.0",
            "_view_name": "StyleView",
            "description_width": ""
          }
        },
        "e25ea4b75eb0475c853d832431c57f50": {
          "model_module": "@jupyter-widgets/controls",
          "model_module_version": "1.5.0",
          "model_name": "ProgressStyleModel",
          "state": {
            "_model_module": "@jupyter-widgets/controls",
            "_model_module_version": "1.5.0",
            "_model_name": "ProgressStyleModel",
            "_view_count": null,
            "_view_module": "@jupyter-widgets/base",
            "_view_module_version": "1.2.0",
            "_view_name": "StyleView",
            "bar_color": null,
            "description_width": ""
          }
        },
        "e29ed255d1ce46cbb6ff699f695824db": {
          "model_module": "@jupyter-widgets/controls",
          "model_module_version": "1.5.0",
          "model_name": "HTMLModel",
          "state": {
            "_dom_classes": [],
            "_model_module": "@jupyter-widgets/controls",
            "_model_module_version": "1.5.0",
            "_model_name": "HTMLModel",
            "_view_count": null,
            "_view_module": "@jupyter-widgets/controls",
            "_view_module_version": "1.5.0",
            "_view_name": "HTMLView",
            "description": "",
            "description_tooltip": null,
            "layout": "IPY_MODEL_0a855a5b2ab24a72a6b454d403898a94",
            "placeholder": "​",
            "style": "IPY_MODEL_5955c7f5761d4d83adf0600c5fd0dec0",
            "value": " 1000/1000 [00:00&lt;00:00, 3731.55 examples/s]"
          }
        },
        "e81c6fb13bf0405091224059a78efd58": {
          "model_module": "@jupyter-widgets/controls",
          "model_module_version": "1.5.0",
          "model_name": "HBoxModel",
          "state": {
            "_dom_classes": [],
            "_model_module": "@jupyter-widgets/controls",
            "_model_module_version": "1.5.0",
            "_model_name": "HBoxModel",
            "_view_count": null,
            "_view_module": "@jupyter-widgets/controls",
            "_view_module_version": "1.5.0",
            "_view_name": "HBoxView",
            "box_style": "",
            "children": [
              "IPY_MODEL_ba75f95606254d1cb73405d14e9f0151",
              "IPY_MODEL_1028fe98bd724a2e81b0bf84859e0a47",
              "IPY_MODEL_abfda9307f114740b82576e1225eac41"
            ],
            "layout": "IPY_MODEL_f01aa8ebae294c9994479561c2d5d89b"
          }
        },
        "eda0946a7a334118a529b88210c8c4d0": {
          "model_module": "@jupyter-widgets/base",
          "model_module_version": "1.2.0",
          "model_name": "LayoutModel",
          "state": {
            "_model_module": "@jupyter-widgets/base",
            "_model_module_version": "1.2.0",
            "_model_name": "LayoutModel",
            "_view_count": null,
            "_view_module": "@jupyter-widgets/base",
            "_view_module_version": "1.2.0",
            "_view_name": "LayoutView",
            "align_content": null,
            "align_items": null,
            "align_self": null,
            "border": null,
            "bottom": null,
            "display": null,
            "flex": null,
            "flex_flow": null,
            "grid_area": null,
            "grid_auto_columns": null,
            "grid_auto_flow": null,
            "grid_auto_rows": null,
            "grid_column": null,
            "grid_gap": null,
            "grid_row": null,
            "grid_template_areas": null,
            "grid_template_columns": null,
            "grid_template_rows": null,
            "height": null,
            "justify_content": null,
            "justify_items": null,
            "left": null,
            "margin": null,
            "max_height": null,
            "max_width": null,
            "min_height": null,
            "min_width": null,
            "object_fit": null,
            "object_position": null,
            "order": null,
            "overflow": null,
            "overflow_x": null,
            "overflow_y": null,
            "padding": null,
            "right": null,
            "top": null,
            "visibility": null,
            "width": null
          }
        },
        "f01aa8ebae294c9994479561c2d5d89b": {
          "model_module": "@jupyter-widgets/base",
          "model_module_version": "1.2.0",
          "model_name": "LayoutModel",
          "state": {
            "_model_module": "@jupyter-widgets/base",
            "_model_module_version": "1.2.0",
            "_model_name": "LayoutModel",
            "_view_count": null,
            "_view_module": "@jupyter-widgets/base",
            "_view_module_version": "1.2.0",
            "_view_name": "LayoutView",
            "align_content": null,
            "align_items": null,
            "align_self": null,
            "border": null,
            "bottom": null,
            "display": null,
            "flex": null,
            "flex_flow": null,
            "grid_area": null,
            "grid_auto_columns": null,
            "grid_auto_flow": null,
            "grid_auto_rows": null,
            "grid_column": null,
            "grid_gap": null,
            "grid_row": null,
            "grid_template_areas": null,
            "grid_template_columns": null,
            "grid_template_rows": null,
            "height": null,
            "justify_content": null,
            "justify_items": null,
            "left": null,
            "margin": null,
            "max_height": null,
            "max_width": null,
            "min_height": null,
            "min_width": null,
            "object_fit": null,
            "object_position": null,
            "order": null,
            "overflow": null,
            "overflow_x": null,
            "overflow_y": null,
            "padding": null,
            "right": null,
            "top": null,
            "visibility": null,
            "width": null
          }
        },
        "f3933fa29e3144f5a1db06eaae73d15d": {
          "model_module": "@jupyter-widgets/controls",
          "model_module_version": "1.5.0",
          "model_name": "DescriptionStyleModel",
          "state": {
            "_model_module": "@jupyter-widgets/controls",
            "_model_module_version": "1.5.0",
            "_model_name": "DescriptionStyleModel",
            "_view_count": null,
            "_view_module": "@jupyter-widgets/base",
            "_view_module_version": "1.2.0",
            "_view_name": "StyleView",
            "description_width": ""
          }
        },
        "f45b47ad0bef4c9fb1c0333aba974ec7": {
          "model_module": "@jupyter-widgets/controls",
          "model_module_version": "1.5.0",
          "model_name": "DescriptionStyleModel",
          "state": {
            "_model_module": "@jupyter-widgets/controls",
            "_model_module_version": "1.5.0",
            "_model_name": "DescriptionStyleModel",
            "_view_count": null,
            "_view_module": "@jupyter-widgets/base",
            "_view_module_version": "1.2.0",
            "_view_name": "StyleView",
            "description_width": ""
          }
        },
        "fbc90501c746468b8a4bae65408729fe": {
          "model_module": "@jupyter-widgets/base",
          "model_module_version": "1.2.0",
          "model_name": "LayoutModel",
          "state": {
            "_model_module": "@jupyter-widgets/base",
            "_model_module_version": "1.2.0",
            "_model_name": "LayoutModel",
            "_view_count": null,
            "_view_module": "@jupyter-widgets/base",
            "_view_module_version": "1.2.0",
            "_view_name": "LayoutView",
            "align_content": null,
            "align_items": null,
            "align_self": null,
            "border": null,
            "bottom": null,
            "display": null,
            "flex": null,
            "flex_flow": null,
            "grid_area": null,
            "grid_auto_columns": null,
            "grid_auto_flow": null,
            "grid_auto_rows": null,
            "grid_column": null,
            "grid_gap": null,
            "grid_row": null,
            "grid_template_areas": null,
            "grid_template_columns": null,
            "grid_template_rows": null,
            "height": null,
            "justify_content": null,
            "justify_items": null,
            "left": null,
            "margin": null,
            "max_height": null,
            "max_width": null,
            "min_height": null,
            "min_width": null,
            "object_fit": null,
            "object_position": null,
            "order": null,
            "overflow": null,
            "overflow_x": null,
            "overflow_y": null,
            "padding": null,
            "right": null,
            "top": null,
            "visibility": null,
            "width": null
          }
        },
        "fd107cf7607245a2b05d0a621f57d880": {
          "model_module": "@jupyter-widgets/controls",
          "model_module_version": "1.5.0",
          "model_name": "DescriptionStyleModel",
          "state": {
            "_model_module": "@jupyter-widgets/controls",
            "_model_module_version": "1.5.0",
            "_model_name": "DescriptionStyleModel",
            "_view_count": null,
            "_view_module": "@jupyter-widgets/base",
            "_view_module_version": "1.2.0",
            "_view_name": "StyleView",
            "description_width": ""
          }
        },
        "fd7c47f493c34b26a785f66691299c24": {
          "model_module": "@jupyter-widgets/controls",
          "model_module_version": "1.5.0",
          "model_name": "DescriptionStyleModel",
          "state": {
            "_model_module": "@jupyter-widgets/controls",
            "_model_module_version": "1.5.0",
            "_model_name": "DescriptionStyleModel",
            "_view_count": null,
            "_view_module": "@jupyter-widgets/base",
            "_view_module_version": "1.2.0",
            "_view_name": "StyleView",
            "description_width": ""
          }
        }
      }
    }
  },
  "nbformat": 4,
  "nbformat_minor": 0
}
